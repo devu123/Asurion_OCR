{
 "cells": [
  {
   "cell_type": "code",
   "execution_count": 1,
   "id": "3042bdb0",
   "metadata": {},
   "outputs": [],
   "source": [
    "import numpy as np\n",
    "import pandas as pd\n",
    "import matplotlib.pyplot as plt\n",
    "import cv2"
   ]
  },
  {
   "cell_type": "code",
   "execution_count": 2,
   "id": "6eb0e1df",
   "metadata": {},
   "outputs": [],
   "source": [
    "df = pd.read_csv('./new_data/product_model_serial_numbers.csv')\n",
    "fn_df = pd.read_csv('./new_data/filename_id_lookup.csv', names=['SN', 'FILE_NAME', 'example'])"
   ]
  },
  {
   "cell_type": "code",
   "execution_count": 3,
   "id": "5ebcb599",
   "metadata": {
    "pycharm": {
     "name": "#%%\n"
    }
   },
   "outputs": [
    {
     "data": {
      "text/html": [
       "<div>\n",
       "<style scoped>\n",
       "    .dataframe tbody tr th:only-of-type {\n",
       "        vertical-align: middle;\n",
       "    }\n",
       "\n",
       "    .dataframe tbody tr th {\n",
       "        vertical-align: top;\n",
       "    }\n",
       "\n",
       "    .dataframe thead th {\n",
       "        text-align: right;\n",
       "    }\n",
       "</style>\n",
       "<table border=\"1\" class=\"dataframe\">\n",
       "  <thead>\n",
       "    <tr style=\"text-align: right;\">\n",
       "      <th></th>\n",
       "      <th>SERVICE_JOB_ID</th>\n",
       "      <th>FILE_NAME</th>\n",
       "      <th>example</th>\n",
       "      <th>PRODUCT_LINE</th>\n",
       "      <th>MODEL_NUMBER</th>\n",
       "      <th>SERIAL_NUMBER</th>\n",
       "    </tr>\n",
       "  </thead>\n",
       "  <tbody>\n",
       "    <tr>\n",
       "      <th>0</th>\n",
       "      <td>SJ48132474</td>\n",
       "      <td>image-pre-inspection-proof-of-purchase-72fddee...</td>\n",
       "      <td>data/Laundry/SJ48132474/image-pre-inspection-p...</td>\n",
       "      <td>HOME LAUNDRY GAS</td>\n",
       "      <td>DVG54R7600C/A3</td>\n",
       "      <td>0B1T5BCNC00144M</td>\n",
       "    </tr>\n",
       "    <tr>\n",
       "      <th>1</th>\n",
       "      <td>SJ48132474</td>\n",
       "      <td>image-pre-inspection-proof-of-purchase-bcd8901...</td>\n",
       "      <td>data/Laundry/SJ48132474/image-pre-inspection-p...</td>\n",
       "      <td>HOME LAUNDRY GAS</td>\n",
       "      <td>DVG54R7600C/A3</td>\n",
       "      <td>0B1T5BCNC00144M</td>\n",
       "    </tr>\n",
       "    <tr>\n",
       "      <th>2</th>\n",
       "      <td>SJ48132474</td>\n",
       "      <td>image-pre-inspection-serial-number-a2dc2e0b-7a...</td>\n",
       "      <td>data/Laundry/SJ48132474/image-pre-inspection-s...</td>\n",
       "      <td>HOME LAUNDRY GAS</td>\n",
       "      <td>DVG54R7600C/A3</td>\n",
       "      <td>0B1T5BCNC00144M</td>\n",
       "    </tr>\n",
       "    <tr>\n",
       "      <th>3</th>\n",
       "      <td>SJ48132474</td>\n",
       "      <td>image-pre-inspection-serial-number-d843dfb6-fb...</td>\n",
       "      <td>data/Laundry/SJ48132474/image-pre-inspection-s...</td>\n",
       "      <td>HOME LAUNDRY GAS</td>\n",
       "      <td>DVG54R7600C/A3</td>\n",
       "      <td>0B1T5BCNC00144M</td>\n",
       "    </tr>\n",
       "    <tr>\n",
       "      <th>4</th>\n",
       "      <td>SJ48144276</td>\n",
       "      <td>image-pre-inspection-proof-of-purchase-8e82720...</td>\n",
       "      <td>data/Laundry/SJ48144276/image-pre-inspection-p...</td>\n",
       "      <td>HOME LAUNDRY GAS</td>\n",
       "      <td>GTD42GASJ2WW</td>\n",
       "      <td>GTD42GASJ2WW</td>\n",
       "    </tr>\n",
       "  </tbody>\n",
       "</table>\n",
       "</div>"
      ],
      "text/plain": [
       "  SERVICE_JOB_ID                                          FILE_NAME  \\\n",
       "0     SJ48132474  image-pre-inspection-proof-of-purchase-72fddee...   \n",
       "1     SJ48132474  image-pre-inspection-proof-of-purchase-bcd8901...   \n",
       "2     SJ48132474  image-pre-inspection-serial-number-a2dc2e0b-7a...   \n",
       "3     SJ48132474  image-pre-inspection-serial-number-d843dfb6-fb...   \n",
       "4     SJ48144276  image-pre-inspection-proof-of-purchase-8e82720...   \n",
       "\n",
       "                                             example      PRODUCT_LINE  \\\n",
       "0  data/Laundry/SJ48132474/image-pre-inspection-p...  HOME LAUNDRY GAS   \n",
       "1  data/Laundry/SJ48132474/image-pre-inspection-p...  HOME LAUNDRY GAS   \n",
       "2  data/Laundry/SJ48132474/image-pre-inspection-s...  HOME LAUNDRY GAS   \n",
       "3  data/Laundry/SJ48132474/image-pre-inspection-s...  HOME LAUNDRY GAS   \n",
       "4  data/Laundry/SJ48144276/image-pre-inspection-p...  HOME LAUNDRY GAS   \n",
       "\n",
       "     MODEL_NUMBER    SERIAL_NUMBER  \n",
       "0  DVG54R7600C/A3  0B1T5BCNC00144M  \n",
       "1  DVG54R7600C/A3  0B1T5BCNC00144M  \n",
       "2  DVG54R7600C/A3  0B1T5BCNC00144M  \n",
       "3  DVG54R7600C/A3  0B1T5BCNC00144M  \n",
       "4    GTD42GASJ2WW     GTD42GASJ2WW  "
      ]
     },
     "execution_count": 3,
     "metadata": {},
     "output_type": "execute_result"
    }
   ],
   "source": [
    "df.head()"
   ]
  },
  {
   "cell_type": "code",
   "execution_count": 4,
   "id": "e5620768",
   "metadata": {},
   "outputs": [
    {
     "data": {
      "text/html": [
       "<div>\n",
       "<style scoped>\n",
       "    .dataframe tbody tr th:only-of-type {\n",
       "        vertical-align: middle;\n",
       "    }\n",
       "\n",
       "    .dataframe tbody tr th {\n",
       "        vertical-align: top;\n",
       "    }\n",
       "\n",
       "    .dataframe thead th {\n",
       "        text-align: right;\n",
       "    }\n",
       "</style>\n",
       "<table border=\"1\" class=\"dataframe\">\n",
       "  <thead>\n",
       "    <tr style=\"text-align: right;\">\n",
       "      <th></th>\n",
       "      <th>SN</th>\n",
       "      <th>FILE_NAME</th>\n",
       "      <th>example</th>\n",
       "    </tr>\n",
       "  </thead>\n",
       "  <tbody>\n",
       "    <tr>\n",
       "      <th>0</th>\n",
       "      <td>1</td>\n",
       "      <td>image-pre-inspection-serial-number-e251c60d-82...</td>\n",
       "      <td>data/SJ48263644/image-pre-inspection-serial-nu...</td>\n",
       "    </tr>\n",
       "    <tr>\n",
       "      <th>1</th>\n",
       "      <td>2</td>\n",
       "      <td>image-pre-inspection-serial-number-06b7b5d3-63...</td>\n",
       "      <td>data/SJ49160346/image-pre-inspection-serial-nu...</td>\n",
       "    </tr>\n",
       "    <tr>\n",
       "      <th>2</th>\n",
       "      <td>3</td>\n",
       "      <td>image-pre-inspection-serial-number-cdabb4cc-13...</td>\n",
       "      <td>data/SJ48161309/image-pre-inspection-serial-nu...</td>\n",
       "    </tr>\n",
       "    <tr>\n",
       "      <th>3</th>\n",
       "      <td>4</td>\n",
       "      <td>image-pre-inspection-proof-of-purchase-03327aa...</td>\n",
       "      <td>data/SJ48161309/image-pre-inspection-proof-of-...</td>\n",
       "    </tr>\n",
       "    <tr>\n",
       "      <th>4</th>\n",
       "      <td>5</td>\n",
       "      <td>image-pre-inspection-serial-number-f4accc50-1f...</td>\n",
       "      <td>data/SJ48326900/image-pre-inspection-serial-nu...</td>\n",
       "    </tr>\n",
       "  </tbody>\n",
       "</table>\n",
       "</div>"
      ],
      "text/plain": [
       "   SN                                          FILE_NAME  \\\n",
       "0   1  image-pre-inspection-serial-number-e251c60d-82...   \n",
       "1   2  image-pre-inspection-serial-number-06b7b5d3-63...   \n",
       "2   3  image-pre-inspection-serial-number-cdabb4cc-13...   \n",
       "3   4  image-pre-inspection-proof-of-purchase-03327aa...   \n",
       "4   5  image-pre-inspection-serial-number-f4accc50-1f...   \n",
       "\n",
       "                                             example  \n",
       "0  data/SJ48263644/image-pre-inspection-serial-nu...  \n",
       "1  data/SJ49160346/image-pre-inspection-serial-nu...  \n",
       "2  data/SJ48161309/image-pre-inspection-serial-nu...  \n",
       "3  data/SJ48161309/image-pre-inspection-proof-of-...  \n",
       "4  data/SJ48326900/image-pre-inspection-serial-nu...  "
      ]
     },
     "execution_count": 4,
     "metadata": {},
     "output_type": "execute_result"
    }
   ],
   "source": [
    "fn_df.head()"
   ]
  },
  {
   "cell_type": "code",
   "execution_count": 5,
   "id": "a8c64a6f",
   "metadata": {},
   "outputs": [
    {
     "data": {
      "text/plain": [
       "(3347, 6)"
      ]
     },
     "execution_count": 5,
     "metadata": {},
     "output_type": "execute_result"
    }
   ],
   "source": [
    "df.shape"
   ]
  },
  {
   "cell_type": "code",
   "execution_count": 6,
   "id": "a2b9b696",
   "metadata": {},
   "outputs": [
    {
     "name": "stdout",
     "output_type": "stream",
     "text": [
      "Without duplicate model number - # of dataset = (357, 6)\n"
     ]
    },
    {
     "data": {
      "text/plain": [
       "(2424, 6)"
      ]
     },
     "execution_count": 6,
     "metadata": {},
     "output_type": "execute_result"
    }
   ],
   "source": [
    "df1 = df.dropna()\n",
    "print(f\"Without duplicate model number - # of dataset = {df1.drop_duplicates(subset='MODEL_NUMBER', keep='last').shape}\")\n",
    "df1.shape"
   ]
  },
  {
   "cell_type": "code",
   "execution_count": 7,
   "id": "a00abc78",
   "metadata": {},
   "outputs": [
    {
     "data": {
      "text/plain": [
       "(3303, 3)"
      ]
     },
     "execution_count": 7,
     "metadata": {},
     "output_type": "execute_result"
    }
   ],
   "source": [
    "fn_df.shape"
   ]
  },
  {
   "cell_type": "code",
   "execution_count": 8,
   "id": "0855c870",
   "metadata": {},
   "outputs": [
    {
     "name": "stderr",
     "output_type": "stream",
     "text": [
      "<ipython-input-8-4d7de6371267>:1: SettingWithCopyWarning: \n",
      "A value is trying to be set on a copy of a slice from a DataFrame.\n",
      "Try using .loc[row_indexer,col_indexer] = value instead\n",
      "\n",
      "See the caveats in the documentation: https://pandas.pydata.org/pandas-docs/stable/user_guide/indexing.html#returning-a-view-versus-a-copy\n",
      "  df1['mod_num_len'] = df1['MODEL_NUMBER'].str.len()\n"
     ]
    },
    {
     "data": {
      "text/html": [
       "<div>\n",
       "<style scoped>\n",
       "    .dataframe tbody tr th:only-of-type {\n",
       "        vertical-align: middle;\n",
       "    }\n",
       "\n",
       "    .dataframe tbody tr th {\n",
       "        vertical-align: top;\n",
       "    }\n",
       "\n",
       "    .dataframe thead th {\n",
       "        text-align: right;\n",
       "    }\n",
       "</style>\n",
       "<table border=\"1\" class=\"dataframe\">\n",
       "  <thead>\n",
       "    <tr style=\"text-align: right;\">\n",
       "      <th></th>\n",
       "      <th>SERVICE_JOB_ID</th>\n",
       "      <th>FILE_NAME</th>\n",
       "      <th>example</th>\n",
       "      <th>PRODUCT_LINE</th>\n",
       "      <th>MODEL_NUMBER</th>\n",
       "      <th>SERIAL_NUMBER</th>\n",
       "      <th>mod_num_len</th>\n",
       "    </tr>\n",
       "  </thead>\n",
       "  <tbody>\n",
       "    <tr>\n",
       "      <th>0</th>\n",
       "      <td>SJ48132474</td>\n",
       "      <td>image-pre-inspection-proof-of-purchase-72fddee...</td>\n",
       "      <td>data/Laundry/SJ48132474/image-pre-inspection-p...</td>\n",
       "      <td>HOME LAUNDRY GAS</td>\n",
       "      <td>DVG54R7600C/A3</td>\n",
       "      <td>0B1T5BCNC00144M</td>\n",
       "      <td>14</td>\n",
       "    </tr>\n",
       "    <tr>\n",
       "      <th>1</th>\n",
       "      <td>SJ48132474</td>\n",
       "      <td>image-pre-inspection-proof-of-purchase-bcd8901...</td>\n",
       "      <td>data/Laundry/SJ48132474/image-pre-inspection-p...</td>\n",
       "      <td>HOME LAUNDRY GAS</td>\n",
       "      <td>DVG54R7600C/A3</td>\n",
       "      <td>0B1T5BCNC00144M</td>\n",
       "      <td>14</td>\n",
       "    </tr>\n",
       "    <tr>\n",
       "      <th>2</th>\n",
       "      <td>SJ48132474</td>\n",
       "      <td>image-pre-inspection-serial-number-a2dc2e0b-7a...</td>\n",
       "      <td>data/Laundry/SJ48132474/image-pre-inspection-s...</td>\n",
       "      <td>HOME LAUNDRY GAS</td>\n",
       "      <td>DVG54R7600C/A3</td>\n",
       "      <td>0B1T5BCNC00144M</td>\n",
       "      <td>14</td>\n",
       "    </tr>\n",
       "    <tr>\n",
       "      <th>3</th>\n",
       "      <td>SJ48132474</td>\n",
       "      <td>image-pre-inspection-serial-number-d843dfb6-fb...</td>\n",
       "      <td>data/Laundry/SJ48132474/image-pre-inspection-s...</td>\n",
       "      <td>HOME LAUNDRY GAS</td>\n",
       "      <td>DVG54R7600C/A3</td>\n",
       "      <td>0B1T5BCNC00144M</td>\n",
       "      <td>14</td>\n",
       "    </tr>\n",
       "    <tr>\n",
       "      <th>4</th>\n",
       "      <td>SJ48144276</td>\n",
       "      <td>image-pre-inspection-proof-of-purchase-8e82720...</td>\n",
       "      <td>data/Laundry/SJ48144276/image-pre-inspection-p...</td>\n",
       "      <td>HOME LAUNDRY GAS</td>\n",
       "      <td>GTD42GASJ2WW</td>\n",
       "      <td>GTD42GASJ2WW</td>\n",
       "      <td>12</td>\n",
       "    </tr>\n",
       "  </tbody>\n",
       "</table>\n",
       "</div>"
      ],
      "text/plain": [
       "  SERVICE_JOB_ID                                          FILE_NAME  \\\n",
       "0     SJ48132474  image-pre-inspection-proof-of-purchase-72fddee...   \n",
       "1     SJ48132474  image-pre-inspection-proof-of-purchase-bcd8901...   \n",
       "2     SJ48132474  image-pre-inspection-serial-number-a2dc2e0b-7a...   \n",
       "3     SJ48132474  image-pre-inspection-serial-number-d843dfb6-fb...   \n",
       "4     SJ48144276  image-pre-inspection-proof-of-purchase-8e82720...   \n",
       "\n",
       "                                             example      PRODUCT_LINE  \\\n",
       "0  data/Laundry/SJ48132474/image-pre-inspection-p...  HOME LAUNDRY GAS   \n",
       "1  data/Laundry/SJ48132474/image-pre-inspection-p...  HOME LAUNDRY GAS   \n",
       "2  data/Laundry/SJ48132474/image-pre-inspection-s...  HOME LAUNDRY GAS   \n",
       "3  data/Laundry/SJ48132474/image-pre-inspection-s...  HOME LAUNDRY GAS   \n",
       "4  data/Laundry/SJ48144276/image-pre-inspection-p...  HOME LAUNDRY GAS   \n",
       "\n",
       "     MODEL_NUMBER    SERIAL_NUMBER  mod_num_len  \n",
       "0  DVG54R7600C/A3  0B1T5BCNC00144M           14  \n",
       "1  DVG54R7600C/A3  0B1T5BCNC00144M           14  \n",
       "2  DVG54R7600C/A3  0B1T5BCNC00144M           14  \n",
       "3  DVG54R7600C/A3  0B1T5BCNC00144M           14  \n",
       "4    GTD42GASJ2WW     GTD42GASJ2WW           12  "
      ]
     },
     "execution_count": 8,
     "metadata": {},
     "output_type": "execute_result"
    }
   ],
   "source": [
    "df1['mod_num_len'] = df1['MODEL_NUMBER'].str.len()\n",
    "df1.head()"
   ]
  },
  {
   "cell_type": "code",
   "execution_count": 9,
   "id": "c74fa4d6",
   "metadata": {},
   "outputs": [
    {
     "data": {
      "text/plain": [
       "357"
      ]
     },
     "execution_count": 9,
     "metadata": {},
     "output_type": "execute_result"
    }
   ],
   "source": [
    "# total number of unique devices \n",
    "len(df1['MODEL_NUMBER'].unique())"
   ]
  },
  {
   "cell_type": "code",
   "execution_count": 18,
   "id": "f7894fb6",
   "metadata": {},
   "outputs": [
    {
     "data": {
      "text/plain": [
       "array(['GTD42GASJ2WW', 'GTX22GASK0WW', 'GTD33GASK0WW', '00000000',\n",
       "       'EFMG527UIW1', 'GFD65GSPN0SN', 'GTX42GASJ2WW', 'GFD85GSSN0WW',\n",
       "       'GTW680BSJ0WS', 'EFMG627UTT1', 'SHPM65W55N/11', 'GTWN3000M',\n",
       "       'GUD27GSSMWW', 'GTD42GASJWWW', 'KDFE104HBL1', 'GFP1528SN0WW',\n",
       "       'NED4655EW1', '1: EFLS527UIW', '796.31512211', 'HTX24GASKOWS',\n",
       "       'HTX24GASK0WS', 'FGID2466QF7A', 'GTD42GWW', 'MHWZ600TW01',\n",
       "       'LDT5678ST.DUA413TT', 'GFD65GSSN0WW', 'EFMG627UIW1', 'FFLE4033QT0',\n",
       "       'GTW460ASJ9WW', 'GTD33GASK', 'GFD65GSPNSN', 'GTD45GASJ2WS',\n",
       "       'JCD2389DEW', 'FRS26KF6EM1', 'FFU20F2VW0', 'KFCP22EXMP1',\n",
       "       'LGHK2336TF0', 'LMXS30776S-04', 'GSC25C4EYY01', '106-57943700',\n",
       "       'MFI2568AES'], dtype=object)"
      ]
     },
     "execution_count": 18,
     "metadata": {},
     "output_type": "execute_result"
    }
   ],
   "source": [
    "import re\n",
    "r = re.compile(r'[D|R|W][A-Z|0-9]*[0-9]*\\/*[A-Z|0-9]*')\n",
    "other_mod_num = df1[df1.MODEL_NUMBER.apply(lambda x: bool(not r.match(x)))]['MODEL_NUMBER'].unique()\n",
    "other_mod_num"
   ]
  },
  {
   "cell_type": "code",
   "execution_count": 38,
   "id": "c94161a4",
   "metadata": {},
   "outputs": [],
   "source": [
    "other_mod_num_files = df1[df1['MODEL_NUMBER'].isin(other_mod_num)].drop_duplicates('MODEL_NUMBER')['example']\n",
    "fn_df[fn_df['example'].isin(other_mod_num_files)].to_csv(\"non-samsung.csv\", index=False)"
   ]
  },
  {
   "cell_type": "code",
   "execution_count": 39,
   "id": "8c75d732",
   "metadata": {},
   "outputs": [
    {
     "data": {
      "text/plain": [
       "array([14, 12,  8, 11, 10, 13,  9,  6, 16, 18])"
      ]
     },
     "execution_count": 39,
     "metadata": {},
     "output_type": "execute_result"
    }
   ],
   "source": [
    "# length of model number range\n",
    "df1['mod_num_len'].unique()"
   ]
  },
  {
   "cell_type": "code",
   "execution_count": 40,
   "id": "2751c255",
   "metadata": {},
   "outputs": [
    {
     "name": "stderr",
     "output_type": "stream",
     "text": [
      "<ipython-input-40-931adde57f6b>:1: SettingWithCopyWarning: \n",
      "A value is trying to be set on a copy of a slice from a DataFrame.\n",
      "Try using .loc[row_indexer,col_indexer] = value instead\n",
      "\n",
      "See the caveats in the documentation: https://pandas.pydata.org/pandas-docs/stable/user_guide/indexing.html#returning-a-view-versus-a-copy\n",
      "  df1['sn_len'] = df1['SERIAL_NUMBER'].str.len()\n"
     ]
    },
    {
     "data": {
      "text/html": [
       "<div>\n",
       "<style scoped>\n",
       "    .dataframe tbody tr th:only-of-type {\n",
       "        vertical-align: middle;\n",
       "    }\n",
       "\n",
       "    .dataframe tbody tr th {\n",
       "        vertical-align: top;\n",
       "    }\n",
       "\n",
       "    .dataframe thead th {\n",
       "        text-align: right;\n",
       "    }\n",
       "</style>\n",
       "<table border=\"1\" class=\"dataframe\">\n",
       "  <thead>\n",
       "    <tr style=\"text-align: right;\">\n",
       "      <th></th>\n",
       "      <th>SERVICE_JOB_ID</th>\n",
       "      <th>FILE_NAME</th>\n",
       "      <th>example</th>\n",
       "      <th>PRODUCT_LINE</th>\n",
       "      <th>MODEL_NUMBER</th>\n",
       "      <th>SERIAL_NUMBER</th>\n",
       "      <th>mod_num_len</th>\n",
       "      <th>sn_len</th>\n",
       "    </tr>\n",
       "  </thead>\n",
       "  <tbody>\n",
       "    <tr>\n",
       "      <th>0</th>\n",
       "      <td>SJ48132474</td>\n",
       "      <td>image-pre-inspection-proof-of-purchase-72fddee...</td>\n",
       "      <td>data/Laundry/SJ48132474/image-pre-inspection-p...</td>\n",
       "      <td>HOME LAUNDRY GAS</td>\n",
       "      <td>DVG54R7600C/A3</td>\n",
       "      <td>0B1T5BCNC00144M</td>\n",
       "      <td>14</td>\n",
       "      <td>15</td>\n",
       "    </tr>\n",
       "    <tr>\n",
       "      <th>1</th>\n",
       "      <td>SJ48132474</td>\n",
       "      <td>image-pre-inspection-proof-of-purchase-bcd8901...</td>\n",
       "      <td>data/Laundry/SJ48132474/image-pre-inspection-p...</td>\n",
       "      <td>HOME LAUNDRY GAS</td>\n",
       "      <td>DVG54R7600C/A3</td>\n",
       "      <td>0B1T5BCNC00144M</td>\n",
       "      <td>14</td>\n",
       "      <td>15</td>\n",
       "    </tr>\n",
       "    <tr>\n",
       "      <th>2</th>\n",
       "      <td>SJ48132474</td>\n",
       "      <td>image-pre-inspection-serial-number-a2dc2e0b-7a...</td>\n",
       "      <td>data/Laundry/SJ48132474/image-pre-inspection-s...</td>\n",
       "      <td>HOME LAUNDRY GAS</td>\n",
       "      <td>DVG54R7600C/A3</td>\n",
       "      <td>0B1T5BCNC00144M</td>\n",
       "      <td>14</td>\n",
       "      <td>15</td>\n",
       "    </tr>\n",
       "    <tr>\n",
       "      <th>3</th>\n",
       "      <td>SJ48132474</td>\n",
       "      <td>image-pre-inspection-serial-number-d843dfb6-fb...</td>\n",
       "      <td>data/Laundry/SJ48132474/image-pre-inspection-s...</td>\n",
       "      <td>HOME LAUNDRY GAS</td>\n",
       "      <td>DVG54R7600C/A3</td>\n",
       "      <td>0B1T5BCNC00144M</td>\n",
       "      <td>14</td>\n",
       "      <td>15</td>\n",
       "    </tr>\n",
       "    <tr>\n",
       "      <th>4</th>\n",
       "      <td>SJ48144276</td>\n",
       "      <td>image-pre-inspection-proof-of-purchase-8e82720...</td>\n",
       "      <td>data/Laundry/SJ48144276/image-pre-inspection-p...</td>\n",
       "      <td>HOME LAUNDRY GAS</td>\n",
       "      <td>GTD42GASJ2WW</td>\n",
       "      <td>GTD42GASJ2WW</td>\n",
       "      <td>12</td>\n",
       "      <td>12</td>\n",
       "    </tr>\n",
       "  </tbody>\n",
       "</table>\n",
       "</div>"
      ],
      "text/plain": [
       "  SERVICE_JOB_ID                                          FILE_NAME  \\\n",
       "0     SJ48132474  image-pre-inspection-proof-of-purchase-72fddee...   \n",
       "1     SJ48132474  image-pre-inspection-proof-of-purchase-bcd8901...   \n",
       "2     SJ48132474  image-pre-inspection-serial-number-a2dc2e0b-7a...   \n",
       "3     SJ48132474  image-pre-inspection-serial-number-d843dfb6-fb...   \n",
       "4     SJ48144276  image-pre-inspection-proof-of-purchase-8e82720...   \n",
       "\n",
       "                                             example      PRODUCT_LINE  \\\n",
       "0  data/Laundry/SJ48132474/image-pre-inspection-p...  HOME LAUNDRY GAS   \n",
       "1  data/Laundry/SJ48132474/image-pre-inspection-p...  HOME LAUNDRY GAS   \n",
       "2  data/Laundry/SJ48132474/image-pre-inspection-s...  HOME LAUNDRY GAS   \n",
       "3  data/Laundry/SJ48132474/image-pre-inspection-s...  HOME LAUNDRY GAS   \n",
       "4  data/Laundry/SJ48144276/image-pre-inspection-p...  HOME LAUNDRY GAS   \n",
       "\n",
       "     MODEL_NUMBER    SERIAL_NUMBER  mod_num_len  sn_len  \n",
       "0  DVG54R7600C/A3  0B1T5BCNC00144M           14      15  \n",
       "1  DVG54R7600C/A3  0B1T5BCNC00144M           14      15  \n",
       "2  DVG54R7600C/A3  0B1T5BCNC00144M           14      15  \n",
       "3  DVG54R7600C/A3  0B1T5BCNC00144M           14      15  \n",
       "4    GTD42GASJ2WW     GTD42GASJ2WW           12      12  "
      ]
     },
     "execution_count": 40,
     "metadata": {},
     "output_type": "execute_result"
    }
   ],
   "source": [
    "df1['sn_len'] = df1['SERIAL_NUMBER'].str.len()\n",
    "df1.head()"
   ]
  },
  {
   "cell_type": "code",
   "execution_count": 41,
   "id": "55a7b4bc",
   "metadata": {},
   "outputs": [
    {
     "data": {
      "text/plain": [
       "array([15, 12,  9, 11, 10,  8,  7, 14])"
      ]
     },
     "execution_count": 41,
     "metadata": {},
     "output_type": "execute_result"
    }
   ],
   "source": [
    "df1['sn_len'].unique()"
   ]
  },
  {
   "cell_type": "code",
   "execution_count": 42,
   "id": "101320b7",
   "metadata": {},
   "outputs": [
    {
     "data": {
      "text/html": [
       "<div>\n",
       "<style scoped>\n",
       "    .dataframe tbody tr th:only-of-type {\n",
       "        vertical-align: middle;\n",
       "    }\n",
       "\n",
       "    .dataframe tbody tr th {\n",
       "        vertical-align: top;\n",
       "    }\n",
       "\n",
       "    .dataframe thead th {\n",
       "        text-align: right;\n",
       "    }\n",
       "</style>\n",
       "<table border=\"1\" class=\"dataframe\">\n",
       "  <thead>\n",
       "    <tr style=\"text-align: right;\">\n",
       "      <th></th>\n",
       "      <th>PRODUCT_LINE</th>\n",
       "      <th>MODEL_NUMBER</th>\n",
       "      <th>SERIAL_NUMBER</th>\n",
       "      <th>mod_num_len</th>\n",
       "      <th>sn_len</th>\n",
       "    </tr>\n",
       "  </thead>\n",
       "  <tbody>\n",
       "    <tr>\n",
       "      <th>0</th>\n",
       "      <td>HOME LAUNDRY GAS</td>\n",
       "      <td>DVG54R7600C/A3</td>\n",
       "      <td>0B1T5BCNC00144M</td>\n",
       "      <td>14</td>\n",
       "      <td>15</td>\n",
       "    </tr>\n",
       "    <tr>\n",
       "      <th>1</th>\n",
       "      <td>HOME LAUNDRY GAS</td>\n",
       "      <td>DVG54R7600C/A3</td>\n",
       "      <td>0B1T5BCNC00144M</td>\n",
       "      <td>14</td>\n",
       "      <td>15</td>\n",
       "    </tr>\n",
       "    <tr>\n",
       "      <th>2</th>\n",
       "      <td>HOME LAUNDRY GAS</td>\n",
       "      <td>DVG54R7600C/A3</td>\n",
       "      <td>0B1T5BCNC00144M</td>\n",
       "      <td>14</td>\n",
       "      <td>15</td>\n",
       "    </tr>\n",
       "    <tr>\n",
       "      <th>3</th>\n",
       "      <td>HOME LAUNDRY GAS</td>\n",
       "      <td>DVG54R7600C/A3</td>\n",
       "      <td>0B1T5BCNC00144M</td>\n",
       "      <td>14</td>\n",
       "      <td>15</td>\n",
       "    </tr>\n",
       "    <tr>\n",
       "      <th>4</th>\n",
       "      <td>HOME LAUNDRY GAS</td>\n",
       "      <td>GTD42GASJ2WW</td>\n",
       "      <td>GTD42GASJ2WW</td>\n",
       "      <td>12</td>\n",
       "      <td>12</td>\n",
       "    </tr>\n",
       "  </tbody>\n",
       "</table>\n",
       "</div>"
      ],
      "text/plain": [
       "       PRODUCT_LINE    MODEL_NUMBER    SERIAL_NUMBER  mod_num_len  sn_len\n",
       "0  HOME LAUNDRY GAS  DVG54R7600C/A3  0B1T5BCNC00144M           14      15\n",
       "1  HOME LAUNDRY GAS  DVG54R7600C/A3  0B1T5BCNC00144M           14      15\n",
       "2  HOME LAUNDRY GAS  DVG54R7600C/A3  0B1T5BCNC00144M           14      15\n",
       "3  HOME LAUNDRY GAS  DVG54R7600C/A3  0B1T5BCNC00144M           14      15\n",
       "4  HOME LAUNDRY GAS    GTD42GASJ2WW     GTD42GASJ2WW           12      12"
      ]
     },
     "execution_count": 42,
     "metadata": {},
     "output_type": "execute_result"
    }
   ],
   "source": [
    "df2 = df1.loc[:,('PRODUCT_LINE', 'MODEL_NUMBER', 'SERIAL_NUMBER', 'mod_num_len', 'sn_len')]\n",
    "df2.head()"
   ]
  },
  {
   "cell_type": "code",
   "execution_count": 43,
   "id": "d6a5fc20",
   "metadata": {},
   "outputs": [
    {
     "name": "stderr",
     "output_type": "stream",
     "text": [
      "<ipython-input-43-ae9744cbd896>:1: FutureWarning: Indexing with multiple keys (implicitly converted to a tuple of keys) will be deprecated, use a list instead.\n",
      "  df2.groupby('PRODUCT_LINE')['mod_num_len','sn_len'].agg(['unique'])\n"
     ]
    },
    {
     "data": {
      "text/html": [
       "<div>\n",
       "<style scoped>\n",
       "    .dataframe tbody tr th:only-of-type {\n",
       "        vertical-align: middle;\n",
       "    }\n",
       "\n",
       "    .dataframe tbody tr th {\n",
       "        vertical-align: top;\n",
       "    }\n",
       "\n",
       "    .dataframe thead tr th {\n",
       "        text-align: left;\n",
       "    }\n",
       "\n",
       "    .dataframe thead tr:last-of-type th {\n",
       "        text-align: right;\n",
       "    }\n",
       "</style>\n",
       "<table border=\"1\" class=\"dataframe\">\n",
       "  <thead>\n",
       "    <tr>\n",
       "      <th></th>\n",
       "      <th>mod_num_len</th>\n",
       "      <th>sn_len</th>\n",
       "    </tr>\n",
       "    <tr>\n",
       "      <th></th>\n",
       "      <th>unique</th>\n",
       "      <th>unique</th>\n",
       "    </tr>\n",
       "    <tr>\n",
       "      <th>PRODUCT_LINE</th>\n",
       "      <th></th>\n",
       "      <th></th>\n",
       "    </tr>\n",
       "  </thead>\n",
       "  <tbody>\n",
       "    <tr>\n",
       "      <th>DISHWASHER</th>\n",
       "      <td>[11, 14, 13, 6, 12, 18, 9]</td>\n",
       "      <td>[9, 15, 7, 14, 8, 10, 12]</td>\n",
       "    </tr>\n",
       "    <tr>\n",
       "      <th>HOME LAUNDRY ELEC</th>\n",
       "      <td>[10, 12, 9, 11, 14, 13, 8]</td>\n",
       "      <td>[9, 15, 10, 12, 14]</td>\n",
       "    </tr>\n",
       "    <tr>\n",
       "      <th>HOME LAUNDRY GAS</th>\n",
       "      <td>[14, 12, 8, 11, 10, 16, 9]</td>\n",
       "      <td>[15, 12, 9, 11, 10, 8]</td>\n",
       "    </tr>\n",
       "    <tr>\n",
       "      <th>HOME REFRIGERATION</th>\n",
       "      <td>[10, 11, 12, 13, 14]</td>\n",
       "      <td>[10, 15, 9, 12]</td>\n",
       "    </tr>\n",
       "  </tbody>\n",
       "</table>\n",
       "</div>"
      ],
      "text/plain": [
       "                                   mod_num_len                     sn_len\n",
       "                                        unique                     unique\n",
       "PRODUCT_LINE                                                             \n",
       "DISHWASHER          [11, 14, 13, 6, 12, 18, 9]  [9, 15, 7, 14, 8, 10, 12]\n",
       "HOME LAUNDRY ELEC   [10, 12, 9, 11, 14, 13, 8]        [9, 15, 10, 12, 14]\n",
       "HOME LAUNDRY GAS    [14, 12, 8, 11, 10, 16, 9]     [15, 12, 9, 11, 10, 8]\n",
       "HOME REFRIGERATION        [10, 11, 12, 13, 14]            [10, 15, 9, 12]"
      ]
     },
     "execution_count": 43,
     "metadata": {},
     "output_type": "execute_result"
    }
   ],
   "source": [
    "df2.groupby('PRODUCT_LINE')['mod_num_len','sn_len'].agg(['unique'])"
   ]
  },
  {
   "cell_type": "code",
   "execution_count": 44,
   "id": "de839bdd",
   "metadata": {},
   "outputs": [
    {
     "data": {
      "text/html": [
       "<div>\n",
       "<style scoped>\n",
       "    .dataframe tbody tr th:only-of-type {\n",
       "        vertical-align: middle;\n",
       "    }\n",
       "\n",
       "    .dataframe tbody tr th {\n",
       "        vertical-align: top;\n",
       "    }\n",
       "\n",
       "    .dataframe thead th {\n",
       "        text-align: right;\n",
       "    }\n",
       "</style>\n",
       "<table border=\"1\" class=\"dataframe\">\n",
       "  <thead>\n",
       "    <tr style=\"text-align: right;\">\n",
       "      <th></th>\n",
       "      <th>PRODUCT_LINE</th>\n",
       "      <th>MODEL_NUMBER</th>\n",
       "      <th>SERIAL_NUMBER</th>\n",
       "      <th>mod_num_len</th>\n",
       "      <th>sn_len</th>\n",
       "    </tr>\n",
       "  </thead>\n",
       "  <tbody>\n",
       "    <tr>\n",
       "      <th>82</th>\n",
       "      <td>DISHWASHER</td>\n",
       "      <td>SHPM65W55N/11</td>\n",
       "      <td>SN6AP5B</td>\n",
       "      <td>13</td>\n",
       "      <td>7</td>\n",
       "    </tr>\n",
       "    <tr>\n",
       "      <th>83</th>\n",
       "      <td>DISHWASHER</td>\n",
       "      <td>SHPM65W55N/11</td>\n",
       "      <td>SN6AP5B</td>\n",
       "      <td>13</td>\n",
       "      <td>7</td>\n",
       "    </tr>\n",
       "  </tbody>\n",
       "</table>\n",
       "</div>"
      ],
      "text/plain": [
       "   PRODUCT_LINE   MODEL_NUMBER SERIAL_NUMBER  mod_num_len  sn_len\n",
       "82   DISHWASHER  SHPM65W55N/11       SN6AP5B           13       7\n",
       "83   DISHWASHER  SHPM65W55N/11       SN6AP5B           13       7"
      ]
     },
     "execution_count": 44,
     "metadata": {},
     "output_type": "execute_result"
    }
   ],
   "source": [
    "df2.query('PRODUCT_LINE == \"DISHWASHER\" & sn_len == 7')"
   ]
  },
  {
   "cell_type": "code",
   "execution_count": 45,
   "id": "fa1aae03",
   "metadata": {},
   "outputs": [
    {
     "name": "stdout",
     "output_type": "stream",
     "text": [
      "['data/Laundry/SJ48479471/image-pre-inspection-photo-48104256-eb4a-4829-8e21-a0a49276a73f_dae659e4-a0f6-4816-a8e2-772e6d44306e.png'\n",
      " 'data/Laundry/SJ48479471/image-pre-inspection-photo-f2582027-f58d-4248-888b-52580c2cb89a_dae659e4-a0f6-4816-a8e2-772e6d44306e.png']\n"
     ]
    }
   ],
   "source": [
    "print(df.query('SERIAL_NUMBER == \"SN6AP5B\"')['example'].values)"
   ]
  },
  {
   "cell_type": "code",
   "execution_count": 46,
   "id": "22bb8e84",
   "metadata": {},
   "outputs": [
    {
     "data": {
      "text/html": [
       "<div>\n",
       "<style scoped>\n",
       "    .dataframe tbody tr th:only-of-type {\n",
       "        vertical-align: middle;\n",
       "    }\n",
       "\n",
       "    .dataframe tbody tr th {\n",
       "        vertical-align: top;\n",
       "    }\n",
       "\n",
       "    .dataframe thead th {\n",
       "        text-align: right;\n",
       "    }\n",
       "</style>\n",
       "<table border=\"1\" class=\"dataframe\">\n",
       "  <thead>\n",
       "    <tr style=\"text-align: right;\">\n",
       "      <th></th>\n",
       "      <th>SN</th>\n",
       "      <th>FILE_NAME</th>\n",
       "      <th>example</th>\n",
       "    </tr>\n",
       "  </thead>\n",
       "  <tbody>\n",
       "    <tr>\n",
       "      <th>283</th>\n",
       "      <td>284</td>\n",
       "      <td>image-pre-inspection-photo-48104256-eb4a-4829-...</td>\n",
       "      <td>data/Laundry/SJ48479471/image-pre-inspection-p...</td>\n",
       "    </tr>\n",
       "  </tbody>\n",
       "</table>\n",
       "</div>"
      ],
      "text/plain": [
       "      SN                                          FILE_NAME  \\\n",
       "283  284  image-pre-inspection-photo-48104256-eb4a-4829-...   \n",
       "\n",
       "                                               example  \n",
       "283  data/Laundry/SJ48479471/image-pre-inspection-p...  "
      ]
     },
     "execution_count": 46,
     "metadata": {},
     "output_type": "execute_result"
    }
   ],
   "source": [
    "fn_df.query('FILE_NAME == \"image-pre-inspection-photo-48104256-eb4a-4829-8e21-a0a49276a73f_dae659e4-a0f6-4816-a8e2-772e6d44306e.png\"')"
   ]
  },
  {
   "cell_type": "code",
   "execution_count": 47,
   "id": "225360b1",
   "metadata": {},
   "outputs": [
    {
     "data": {
      "text/html": [
       "<div>\n",
       "<style scoped>\n",
       "    .dataframe tbody tr th:only-of-type {\n",
       "        vertical-align: middle;\n",
       "    }\n",
       "\n",
       "    .dataframe tbody tr th {\n",
       "        vertical-align: top;\n",
       "    }\n",
       "\n",
       "    .dataframe thead th {\n",
       "        text-align: right;\n",
       "    }\n",
       "</style>\n",
       "<table border=\"1\" class=\"dataframe\">\n",
       "  <thead>\n",
       "    <tr style=\"text-align: right;\">\n",
       "      <th></th>\n",
       "      <th>SN</th>\n",
       "      <th>FILE_NAME</th>\n",
       "      <th>example</th>\n",
       "    </tr>\n",
       "  </thead>\n",
       "  <tbody>\n",
       "    <tr>\n",
       "      <th>0</th>\n",
       "      <td>1</td>\n",
       "      <td>image-pre-inspection-serial-number-e251c60d-82...</td>\n",
       "      <td>data/SJ48263644/image-pre-inspection-serial-nu...</td>\n",
       "    </tr>\n",
       "    <tr>\n",
       "      <th>1</th>\n",
       "      <td>2</td>\n",
       "      <td>image-pre-inspection-serial-number-06b7b5d3-63...</td>\n",
       "      <td>data/SJ49160346/image-pre-inspection-serial-nu...</td>\n",
       "    </tr>\n",
       "    <tr>\n",
       "      <th>2</th>\n",
       "      <td>3</td>\n",
       "      <td>image-pre-inspection-serial-number-cdabb4cc-13...</td>\n",
       "      <td>data/SJ48161309/image-pre-inspection-serial-nu...</td>\n",
       "    </tr>\n",
       "    <tr>\n",
       "      <th>3</th>\n",
       "      <td>4</td>\n",
       "      <td>image-pre-inspection-proof-of-purchase-03327aa...</td>\n",
       "      <td>data/SJ48161309/image-pre-inspection-proof-of-...</td>\n",
       "    </tr>\n",
       "    <tr>\n",
       "      <th>4</th>\n",
       "      <td>5</td>\n",
       "      <td>image-pre-inspection-serial-number-f4accc50-1f...</td>\n",
       "      <td>data/SJ48326900/image-pre-inspection-serial-nu...</td>\n",
       "    </tr>\n",
       "  </tbody>\n",
       "</table>\n",
       "</div>"
      ],
      "text/plain": [
       "   SN                                          FILE_NAME  \\\n",
       "0   1  image-pre-inspection-serial-number-e251c60d-82...   \n",
       "1   2  image-pre-inspection-serial-number-06b7b5d3-63...   \n",
       "2   3  image-pre-inspection-serial-number-cdabb4cc-13...   \n",
       "3   4  image-pre-inspection-proof-of-purchase-03327aa...   \n",
       "4   5  image-pre-inspection-serial-number-f4accc50-1f...   \n",
       "\n",
       "                                             example  \n",
       "0  data/SJ48263644/image-pre-inspection-serial-nu...  \n",
       "1  data/SJ49160346/image-pre-inspection-serial-nu...  \n",
       "2  data/SJ48161309/image-pre-inspection-serial-nu...  \n",
       "3  data/SJ48161309/image-pre-inspection-proof-of-...  \n",
       "4  data/SJ48326900/image-pre-inspection-serial-nu...  "
      ]
     },
     "execution_count": 47,
     "metadata": {},
     "output_type": "execute_result"
    }
   ],
   "source": [
    "fn_df.head()"
   ]
  },
  {
   "cell_type": "code",
   "execution_count": 48,
   "id": "13e4568d",
   "metadata": {},
   "outputs": [
    {
     "data": {
      "text/html": [
       "<div>\n",
       "<style scoped>\n",
       "    .dataframe tbody tr th:only-of-type {\n",
       "        vertical-align: middle;\n",
       "    }\n",
       "\n",
       "    .dataframe tbody tr th {\n",
       "        vertical-align: top;\n",
       "    }\n",
       "\n",
       "    .dataframe thead th {\n",
       "        text-align: right;\n",
       "    }\n",
       "</style>\n",
       "<table border=\"1\" class=\"dataframe\">\n",
       "  <thead>\n",
       "    <tr style=\"text-align: right;\">\n",
       "      <th></th>\n",
       "      <th>SERVICE_JOB_ID</th>\n",
       "      <th>FILE_NAME</th>\n",
       "      <th>example</th>\n",
       "      <th>PRODUCT_LINE</th>\n",
       "      <th>MODEL_NUMBER</th>\n",
       "      <th>SERIAL_NUMBER</th>\n",
       "      <th>mod_num_len</th>\n",
       "      <th>sn_len</th>\n",
       "    </tr>\n",
       "  </thead>\n",
       "  <tbody>\n",
       "    <tr>\n",
       "      <th>3</th>\n",
       "      <td>SJ48132474</td>\n",
       "      <td>image-pre-inspection-serial-number-d843dfb6-fb...</td>\n",
       "      <td>data/Laundry/SJ48132474/image-pre-inspection-s...</td>\n",
       "      <td>HOME LAUNDRY GAS</td>\n",
       "      <td>DVG54R7600C/A3</td>\n",
       "      <td>0B1T5BCNC00144M</td>\n",
       "      <td>14</td>\n",
       "      <td>15</td>\n",
       "    </tr>\n",
       "    <tr>\n",
       "      <th>10</th>\n",
       "      <td>SJ48165170</td>\n",
       "      <td>image-pre-inspection-photo-3cdfaeaf-fd4b-485e-...</td>\n",
       "      <td>data/Laundry/SJ48165170/image-pre-inspection-p...</td>\n",
       "      <td>HOME LAUNDRY GAS</td>\n",
       "      <td>00000000</td>\n",
       "      <td>00000000000</td>\n",
       "      <td>8</td>\n",
       "      <td>11</td>\n",
       "    </tr>\n",
       "    <tr>\n",
       "      <th>16</th>\n",
       "      <td>SJ48173268</td>\n",
       "      <td>image-pre-inspection-serial-number-b6cfaae5-3d...</td>\n",
       "      <td>data/Laundry/SJ48173268/image-pre-inspection-s...</td>\n",
       "      <td>HOME LAUNDRY GAS</td>\n",
       "      <td>EFMG527UIW1</td>\n",
       "      <td>4D12607202</td>\n",
       "      <td>11</td>\n",
       "      <td>10</td>\n",
       "    </tr>\n",
       "    <tr>\n",
       "      <th>30</th>\n",
       "      <td>SJ48293855</td>\n",
       "      <td>image-pre-inspection-photo-c1b73a06-f945-49f5-...</td>\n",
       "      <td>data/Laundry/SJ48293855/image-pre-inspection-p...</td>\n",
       "      <td>HOME LAUNDRY ELEC</td>\n",
       "      <td>WFW85HEFC1</td>\n",
       "      <td>C80550258</td>\n",
       "      <td>10</td>\n",
       "      <td>9</td>\n",
       "    </tr>\n",
       "    <tr>\n",
       "      <th>32</th>\n",
       "      <td>SJ48294169</td>\n",
       "      <td>image-pre-inspection-serial-number-db49d094-76...</td>\n",
       "      <td>data/Laundry/SJ48294169/image-pre-inspection-s...</td>\n",
       "      <td>HOME LAUNDRY GAS</td>\n",
       "      <td>GTX42GASJ2WW</td>\n",
       "      <td>HS808910C</td>\n",
       "      <td>12</td>\n",
       "      <td>9</td>\n",
       "    </tr>\n",
       "  </tbody>\n",
       "</table>\n",
       "</div>"
      ],
      "text/plain": [
       "   SERVICE_JOB_ID                                          FILE_NAME  \\\n",
       "3      SJ48132474  image-pre-inspection-serial-number-d843dfb6-fb...   \n",
       "10     SJ48165170  image-pre-inspection-photo-3cdfaeaf-fd4b-485e-...   \n",
       "16     SJ48173268  image-pre-inspection-serial-number-b6cfaae5-3d...   \n",
       "30     SJ48293855  image-pre-inspection-photo-c1b73a06-f945-49f5-...   \n",
       "32     SJ48294169  image-pre-inspection-serial-number-db49d094-76...   \n",
       "\n",
       "                                              example       PRODUCT_LINE  \\\n",
       "3   data/Laundry/SJ48132474/image-pre-inspection-s...   HOME LAUNDRY GAS   \n",
       "10  data/Laundry/SJ48165170/image-pre-inspection-p...   HOME LAUNDRY GAS   \n",
       "16  data/Laundry/SJ48173268/image-pre-inspection-s...   HOME LAUNDRY GAS   \n",
       "30  data/Laundry/SJ48293855/image-pre-inspection-p...  HOME LAUNDRY ELEC   \n",
       "32  data/Laundry/SJ48294169/image-pre-inspection-s...   HOME LAUNDRY GAS   \n",
       "\n",
       "      MODEL_NUMBER    SERIAL_NUMBER  mod_num_len  sn_len  \n",
       "3   DVG54R7600C/A3  0B1T5BCNC00144M           14      15  \n",
       "10        00000000      00000000000            8      11  \n",
       "16     EFMG527UIW1       4D12607202           11      10  \n",
       "30      WFW85HEFC1        C80550258           10       9  \n",
       "32    GTX42GASJ2WW        HS808910C           12       9  "
      ]
     },
     "execution_count": 48,
     "metadata": {},
     "output_type": "execute_result"
    }
   ],
   "source": [
    "df0 = df1.drop_duplicates(subset='MODEL_NUMBER', keep='last')\n",
    "df0.head()"
   ]
  },
  {
   "cell_type": "code",
   "execution_count": 49,
   "id": "840587c9",
   "metadata": {},
   "outputs": [
    {
     "data": {
      "text/html": [
       "<div>\n",
       "<style scoped>\n",
       "    .dataframe tbody tr th:only-of-type {\n",
       "        vertical-align: middle;\n",
       "    }\n",
       "\n",
       "    .dataframe tbody tr th {\n",
       "        vertical-align: top;\n",
       "    }\n",
       "\n",
       "    .dataframe thead th {\n",
       "        text-align: right;\n",
       "    }\n",
       "</style>\n",
       "<table border=\"1\" class=\"dataframe\">\n",
       "  <thead>\n",
       "    <tr style=\"text-align: right;\">\n",
       "      <th></th>\n",
       "      <th>SN</th>\n",
       "      <th>FILE_NAME</th>\n",
       "      <th>example</th>\n",
       "    </tr>\n",
       "  </thead>\n",
       "  <tbody>\n",
       "    <tr>\n",
       "      <th>124</th>\n",
       "      <td>125</td>\n",
       "      <td>image-pre-inspection-serial-number-6c95b3ce-22...</td>\n",
       "      <td>data/Laundry/SJ49039066/image-pre-inspection-s...</td>\n",
       "    </tr>\n",
       "    <tr>\n",
       "      <th>158</th>\n",
       "      <td>159</td>\n",
       "      <td>image-pre-inspection-serial-number-f23170e9-b6...</td>\n",
       "      <td>data/Laundry/SJ49026246/image-pre-inspection-s...</td>\n",
       "    </tr>\n",
       "    <tr>\n",
       "      <th>165</th>\n",
       "      <td>166</td>\n",
       "      <td>image-pre-inspection-serial-number-a97cc190-55...</td>\n",
       "      <td>data/Laundry/SJ48852406/image-pre-inspection-s...</td>\n",
       "    </tr>\n",
       "    <tr>\n",
       "      <th>181</th>\n",
       "      <td>182</td>\n",
       "      <td>image-pre-inspection-serial-number-0c3a1911-b8...</td>\n",
       "      <td>data/Laundry/SJ49074656/image-pre-inspection-s...</td>\n",
       "    </tr>\n",
       "    <tr>\n",
       "      <th>185</th>\n",
       "      <td>186</td>\n",
       "      <td>image-pre-inspection-serial-number-a6c2bd35-39...</td>\n",
       "      <td>data/Laundry/SJ49050408/image-pre-inspection-s...</td>\n",
       "    </tr>\n",
       "  </tbody>\n",
       "</table>\n",
       "</div>"
      ],
      "text/plain": [
       "      SN                                          FILE_NAME  \\\n",
       "124  125  image-pre-inspection-serial-number-6c95b3ce-22...   \n",
       "158  159  image-pre-inspection-serial-number-f23170e9-b6...   \n",
       "165  166  image-pre-inspection-serial-number-a97cc190-55...   \n",
       "181  182  image-pre-inspection-serial-number-0c3a1911-b8...   \n",
       "185  186  image-pre-inspection-serial-number-a6c2bd35-39...   \n",
       "\n",
       "                                               example  \n",
       "124  data/Laundry/SJ49039066/image-pre-inspection-s...  \n",
       "158  data/Laundry/SJ49026246/image-pre-inspection-s...  \n",
       "165  data/Laundry/SJ48852406/image-pre-inspection-s...  \n",
       "181  data/Laundry/SJ49074656/image-pre-inspection-s...  \n",
       "185  data/Laundry/SJ49050408/image-pre-inspection-s...  "
      ]
     },
     "execution_count": 49,
     "metadata": {},
     "output_type": "execute_result"
    }
   ],
   "source": [
    "unique_images_df = fn_df[fn_df['FILE_NAME'].isin(df0[\"FILE_NAME\"])]\n",
    "unique_images_df.head()"
   ]
  },
  {
   "cell_type": "code",
   "execution_count": 19,
   "id": "7d0ac800",
   "metadata": {},
   "outputs": [],
   "source": [
    "# loop over photos manually to see if keywords are present\n",
    "# for i in unique_images_df['SN'].tolist():\n",
    "#     img = cv2.imread(f'./new_data/{i}.png')\n",
    "#     cv2.imshow('Original', img)\n",
    "#     cv2.waitKey(0)\n",
    "\n",
    "# cv2.destroyAllWindows()\n"
   ]
  },
  {
   "cell_type": "code",
   "execution_count": null,
   "id": "48c28730",
   "metadata": {},
   "outputs": [],
   "source": []
  }
 ],
 "metadata": {
  "kernelspec": {
   "display_name": "Python 3",
   "language": "python",
   "name": "python3"
  },
  "language_info": {
   "codemirror_mode": {
    "name": "ipython",
    "version": 3
   },
   "file_extension": ".py",
   "mimetype": "text/x-python",
   "name": "python",
   "nbconvert_exporter": "python",
   "pygments_lexer": "ipython3",
   "version": "3.8.8"
  }
 },
 "nbformat": 4,
 "nbformat_minor": 5
}
