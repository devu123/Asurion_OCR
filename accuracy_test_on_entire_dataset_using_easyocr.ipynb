{
 "cells": [
  {
   "cell_type": "code",
   "execution_count": 1,
   "id": "3042bdb0",
   "metadata": {},
   "outputs": [
    {
     "name": "stderr",
     "output_type": "stream",
     "text": [
      "CUDA not available - defaulting to CPU. Note: This module is much faster with a GPU.\n",
      "C:\\Users\\rrai34\\Anaconda3\\lib\\site-packages\\torchvision\\models\\_utils.py:252: UserWarning: Accessing the model URLs via the internal dictionary of the module is deprecated since 0.13 and will be removed in 0.15. Please access them via the appropriate Weights Enum instead.\n",
      "  warnings.warn(\n",
      "C:\\Users\\rrai34\\Anaconda3\\lib\\site-packages\\torchvision\\models\\_utils.py:208: UserWarning: The parameter 'pretrained' is deprecated since 0.13 and will be removed in 0.15, please use 'weights' instead.\n",
      "  warnings.warn(\n",
      "C:\\Users\\rrai34\\Anaconda3\\lib\\site-packages\\torchvision\\models\\_utils.py:223: UserWarning: Arguments other than a weight enum or `None` for 'weights' are deprecated since 0.13 and will be removed in 0.15. The current behavior is equivalent to passing `weights=None`.\n",
      "  warnings.warn(msg)\n"
     ]
    }
   ],
   "source": [
    "# import library\n",
    "import os\n",
    "import numpy as np\n",
    "import pandas as pd\n",
    "from pytesseract import pytesseract\n",
    "from sklearn.model_selection import train_test_split\n",
    "from sys import platform\n",
    "import cv2\n",
    "from Levenshtein import distance as levenshtein_distance\n",
    "from model_num_extractor.easyocr_extractor import easyocr_mn_extractor\n",
    "from logger import get_logger\n",
    "import easyocr\n",
    "import time"
   ]
  },
  {
   "cell_type": "code",
   "execution_count": 3,
   "id": "d448336c",
   "metadata": {},
   "outputs": [],
   "source": [
    "# Required to run easyocr in windows - not sure why.\n",
    "os.environ['KMP_DUPLICATE_LIB_OK']='True'\n",
    "# starting up easyocr\n",
    "reader = easyocr.Reader(['en'])"
   ]
  },
  {
   "cell_type": "code",
   "execution_count": 5,
   "id": "5d876272",
   "metadata": {},
   "outputs": [],
   "source": [
    "# import logger\n",
    "logger = get_logger(\"easyocr-extractor-app\")"
   ]
  },
  {
   "cell_type": "code",
   "execution_count": 6,
   "id": "6eb0e1df",
   "metadata": {},
   "outputs": [],
   "source": [
    "# read in data\n",
    "df = pd.read_csv('./new_data/product_model_serial_numbers.csv')\n",
    "df.head()"
   ]
  },
  {
   "cell_type": "code",
   "execution_count": 7,
   "id": "9c7d0215",
   "metadata": {},
   "outputs": [
    {
     "data": {
      "text/html": [
       "<div>\n",
       "<style scoped>\n",
       "    .dataframe tbody tr th:only-of-type {\n",
       "        vertical-align: middle;\n",
       "    }\n",
       "\n",
       "    .dataframe tbody tr th {\n",
       "        vertical-align: top;\n",
       "    }\n",
       "\n",
       "    .dataframe thead th {\n",
       "        text-align: right;\n",
       "    }\n",
       "</style>\n",
       "<table border=\"1\" class=\"dataframe\">\n",
       "  <thead>\n",
       "    <tr style=\"text-align: right;\">\n",
       "      <th></th>\n",
       "      <th>SERVICE_JOB_ID</th>\n",
       "      <th>FILE_NAME</th>\n",
       "      <th>example</th>\n",
       "      <th>PRODUCT_LINE</th>\n",
       "      <th>MODEL_NUMBER</th>\n",
       "      <th>SERIAL_NUMBER</th>\n",
       "    </tr>\n",
       "  </thead>\n",
       "  <tbody>\n",
       "    <tr>\n",
       "      <th>0</th>\n",
       "      <td>SJ48132474</td>\n",
       "      <td>image-pre-inspection-proof-of-purchase-72fddee...</td>\n",
       "      <td>data/Laundry/SJ48132474/image-pre-inspection-p...</td>\n",
       "      <td>HOME LAUNDRY GAS</td>\n",
       "      <td>DVG54R7600C/A3</td>\n",
       "      <td>0B1T5BCNC00144M</td>\n",
       "    </tr>\n",
       "    <tr>\n",
       "      <th>1</th>\n",
       "      <td>SJ48132474</td>\n",
       "      <td>image-pre-inspection-proof-of-purchase-bcd8901...</td>\n",
       "      <td>data/Laundry/SJ48132474/image-pre-inspection-p...</td>\n",
       "      <td>HOME LAUNDRY GAS</td>\n",
       "      <td>DVG54R7600C/A3</td>\n",
       "      <td>0B1T5BCNC00144M</td>\n",
       "    </tr>\n",
       "    <tr>\n",
       "      <th>2</th>\n",
       "      <td>SJ48132474</td>\n",
       "      <td>image-pre-inspection-serial-number-a2dc2e0b-7a...</td>\n",
       "      <td>data/Laundry/SJ48132474/image-pre-inspection-s...</td>\n",
       "      <td>HOME LAUNDRY GAS</td>\n",
       "      <td>DVG54R7600C/A3</td>\n",
       "      <td>0B1T5BCNC00144M</td>\n",
       "    </tr>\n",
       "    <tr>\n",
       "      <th>3</th>\n",
       "      <td>SJ48132474</td>\n",
       "      <td>image-pre-inspection-serial-number-d843dfb6-fb...</td>\n",
       "      <td>data/Laundry/SJ48132474/image-pre-inspection-s...</td>\n",
       "      <td>HOME LAUNDRY GAS</td>\n",
       "      <td>DVG54R7600C/A3</td>\n",
       "      <td>0B1T5BCNC00144M</td>\n",
       "    </tr>\n",
       "    <tr>\n",
       "      <th>4</th>\n",
       "      <td>SJ48144276</td>\n",
       "      <td>image-pre-inspection-proof-of-purchase-8e82720...</td>\n",
       "      <td>data/Laundry/SJ48144276/image-pre-inspection-p...</td>\n",
       "      <td>HOME LAUNDRY GAS</td>\n",
       "      <td>GTD42GASJ2WW</td>\n",
       "      <td>GTD42GASJ2WW</td>\n",
       "    </tr>\n",
       "  </tbody>\n",
       "</table>\n",
       "</div>"
      ],
      "text/plain": [
       "  SERVICE_JOB_ID                                          FILE_NAME  \\\n",
       "0     SJ48132474  image-pre-inspection-proof-of-purchase-72fddee...   \n",
       "1     SJ48132474  image-pre-inspection-proof-of-purchase-bcd8901...   \n",
       "2     SJ48132474  image-pre-inspection-serial-number-a2dc2e0b-7a...   \n",
       "3     SJ48132474  image-pre-inspection-serial-number-d843dfb6-fb...   \n",
       "4     SJ48144276  image-pre-inspection-proof-of-purchase-8e82720...   \n",
       "\n",
       "                                             example      PRODUCT_LINE  \\\n",
       "0  data/Laundry/SJ48132474/image-pre-inspection-p...  HOME LAUNDRY GAS   \n",
       "1  data/Laundry/SJ48132474/image-pre-inspection-p...  HOME LAUNDRY GAS   \n",
       "2  data/Laundry/SJ48132474/image-pre-inspection-s...  HOME LAUNDRY GAS   \n",
       "3  data/Laundry/SJ48132474/image-pre-inspection-s...  HOME LAUNDRY GAS   \n",
       "4  data/Laundry/SJ48144276/image-pre-inspection-p...  HOME LAUNDRY GAS   \n",
       "\n",
       "     MODEL_NUMBER    SERIAL_NUMBER  \n",
       "0  DVG54R7600C/A3  0B1T5BCNC00144M  \n",
       "1  DVG54R7600C/A3  0B1T5BCNC00144M  \n",
       "2  DVG54R7600C/A3  0B1T5BCNC00144M  \n",
       "3  DVG54R7600C/A3  0B1T5BCNC00144M  \n",
       "4    GTD42GASJ2WW     GTD42GASJ2WW  "
      ]
     },
     "execution_count": 7,
     "metadata": {},
     "output_type": "execute_result"
    }
   ],
   "source": []
  },
  {
   "cell_type": "code",
   "execution_count": 8,
   "id": "5273ecad",
   "metadata": {},
   "outputs": [
    {
     "data": {
      "text/html": [
       "<div>\n",
       "<style scoped>\n",
       "    .dataframe tbody tr th:only-of-type {\n",
       "        vertical-align: middle;\n",
       "    }\n",
       "\n",
       "    .dataframe tbody tr th {\n",
       "        vertical-align: top;\n",
       "    }\n",
       "\n",
       "    .dataframe thead th {\n",
       "        text-align: right;\n",
       "    }\n",
       "</style>\n",
       "<table border=\"1\" class=\"dataframe\">\n",
       "  <thead>\n",
       "    <tr style=\"text-align: right;\">\n",
       "      <th></th>\n",
       "      <th>SERVICE_JOB_ID</th>\n",
       "      <th>FILE_NAME</th>\n",
       "      <th>example</th>\n",
       "      <th>PRODUCT_LINE</th>\n",
       "      <th>MODEL_NUMBER</th>\n",
       "      <th>SERIAL_NUMBER</th>\n",
       "    </tr>\n",
       "  </thead>\n",
       "  <tbody>\n",
       "    <tr>\n",
       "      <th>count</th>\n",
       "      <td>3347</td>\n",
       "      <td>3347</td>\n",
       "      <td>3347</td>\n",
       "      <td>2429</td>\n",
       "      <td>2425</td>\n",
       "      <td>2424</td>\n",
       "    </tr>\n",
       "    <tr>\n",
       "      <th>unique</th>\n",
       "      <td>1573</td>\n",
       "      <td>3309</td>\n",
       "      <td>3309</td>\n",
       "      <td>4</td>\n",
       "      <td>358</td>\n",
       "      <td>1141</td>\n",
       "    </tr>\n",
       "    <tr>\n",
       "      <th>top</th>\n",
       "      <td>SJ48595774</td>\n",
       "      <td>image-pre-inspection-serial-number-105d636a-08...</td>\n",
       "      <td>data/Laundry/SJ48547655/image-pre-inspection-s...</td>\n",
       "      <td>DISHWASHER</td>\n",
       "      <td>DW80R2031US/AA</td>\n",
       "      <td>0ERBGDAK201631J</td>\n",
       "    </tr>\n",
       "    <tr>\n",
       "      <th>freq</th>\n",
       "      <td>11</td>\n",
       "      <td>4</td>\n",
       "      <td>4</td>\n",
       "      <td>1031</td>\n",
       "      <td>169</td>\n",
       "      <td>11</td>\n",
       "    </tr>\n",
       "  </tbody>\n",
       "</table>\n",
       "</div>"
      ],
      "text/plain": [
       "       SERVICE_JOB_ID                                          FILE_NAME  \\\n",
       "count            3347                                               3347   \n",
       "unique           1573                                               3309   \n",
       "top        SJ48595774  image-pre-inspection-serial-number-105d636a-08...   \n",
       "freq               11                                                  4   \n",
       "\n",
       "                                                  example PRODUCT_LINE  \\\n",
       "count                                                3347         2429   \n",
       "unique                                               3309            4   \n",
       "top     data/Laundry/SJ48547655/image-pre-inspection-s...   DISHWASHER   \n",
       "freq                                                    4         1031   \n",
       "\n",
       "          MODEL_NUMBER    SERIAL_NUMBER  \n",
       "count             2425             2424  \n",
       "unique             358             1141  \n",
       "top     DW80R2031US/AA  0ERBGDAK201631J  \n",
       "freq               169               11  "
      ]
     },
     "execution_count": 8,
     "metadata": {},
     "output_type": "execute_result"
    }
   ],
   "source": [
    "df.describe()"
   ]
  },
  {
   "cell_type": "markdown",
   "id": "0ecaf338",
   "metadata": {},
   "source": [
    "Get rid of data points which doesn't have model number."
   ]
  },
  {
   "cell_type": "code",
   "execution_count": 9,
   "id": "764711d2",
   "metadata": {},
   "outputs": [
    {
     "data": {
      "text/html": [
       "<div>\n",
       "<style scoped>\n",
       "    .dataframe tbody tr th:only-of-type {\n",
       "        vertical-align: middle;\n",
       "    }\n",
       "\n",
       "    .dataframe tbody tr th {\n",
       "        vertical-align: top;\n",
       "    }\n",
       "\n",
       "    .dataframe thead th {\n",
       "        text-align: right;\n",
       "    }\n",
       "</style>\n",
       "<table border=\"1\" class=\"dataframe\">\n",
       "  <thead>\n",
       "    <tr style=\"text-align: right;\">\n",
       "      <th></th>\n",
       "      <th>SERVICE_JOB_ID</th>\n",
       "      <th>FILE_NAME</th>\n",
       "      <th>example</th>\n",
       "      <th>PRODUCT_LINE</th>\n",
       "      <th>MODEL_NUMBER</th>\n",
       "      <th>SERIAL_NUMBER</th>\n",
       "    </tr>\n",
       "  </thead>\n",
       "  <tbody>\n",
       "    <tr>\n",
       "      <th>count</th>\n",
       "      <td>2425</td>\n",
       "      <td>2425</td>\n",
       "      <td>2425</td>\n",
       "      <td>2425</td>\n",
       "      <td>2425</td>\n",
       "      <td>2424</td>\n",
       "    </tr>\n",
       "    <tr>\n",
       "      <th>unique</th>\n",
       "      <td>1172</td>\n",
       "      <td>2387</td>\n",
       "      <td>2387</td>\n",
       "      <td>4</td>\n",
       "      <td>358</td>\n",
       "      <td>1141</td>\n",
       "    </tr>\n",
       "    <tr>\n",
       "      <th>top</th>\n",
       "      <td>SJ48595774</td>\n",
       "      <td>image-pre-inspection-serial-number-105d636a-08...</td>\n",
       "      <td>data/Laundry/SJ48547655/image-pre-inspection-s...</td>\n",
       "      <td>DISHWASHER</td>\n",
       "      <td>DW80R2031US/AA</td>\n",
       "      <td>0ERBGDAK201631J</td>\n",
       "    </tr>\n",
       "    <tr>\n",
       "      <th>freq</th>\n",
       "      <td>11</td>\n",
       "      <td>4</td>\n",
       "      <td>4</td>\n",
       "      <td>1031</td>\n",
       "      <td>169</td>\n",
       "      <td>11</td>\n",
       "    </tr>\n",
       "  </tbody>\n",
       "</table>\n",
       "</div>"
      ],
      "text/plain": [
       "       SERVICE_JOB_ID                                          FILE_NAME  \\\n",
       "count            2425                                               2425   \n",
       "unique           1172                                               2387   \n",
       "top        SJ48595774  image-pre-inspection-serial-number-105d636a-08...   \n",
       "freq               11                                                  4   \n",
       "\n",
       "                                                  example PRODUCT_LINE  \\\n",
       "count                                                2425         2425   \n",
       "unique                                               2387            4   \n",
       "top     data/Laundry/SJ48547655/image-pre-inspection-s...   DISHWASHER   \n",
       "freq                                                    4         1031   \n",
       "\n",
       "          MODEL_NUMBER    SERIAL_NUMBER  \n",
       "count             2425             2424  \n",
       "unique             358             1141  \n",
       "top     DW80R2031US/AA  0ERBGDAK201631J  \n",
       "freq               169               11  "
      ]
     },
     "execution_count": 9,
     "metadata": {},
     "output_type": "execute_result"
    }
   ],
   "source": [
    "df0 = df.dropna(subset=['MODEL_NUMBER', ])\n",
    "df0.describe()"
   ]
  },
  {
   "cell_type": "markdown",
   "id": "c6e8990d",
   "metadata": {},
   "source": [
    "Checking how many unique service id's the dataframe has."
   ]
  },
  {
   "cell_type": "code",
   "execution_count": 10,
   "id": "7c44daf6",
   "metadata": {},
   "outputs": [
    {
     "data": {
      "text/plain": [
       "1172"
      ]
     },
     "execution_count": 10,
     "metadata": {},
     "output_type": "execute_result"
    }
   ],
   "source": [
    "len(df0.SERVICE_JOB_ID.unique())"
   ]
  },
  {
   "cell_type": "markdown",
   "id": "e3155591",
   "metadata": {},
   "source": [
    "Group the services by job id and create a new column `files` that holds all the images path as a list. Each service id is treated as a data point."
   ]
  },
  {
   "cell_type": "code",
   "execution_count": 11,
   "id": "e8d5903e",
   "metadata": {},
   "outputs": [
    {
     "data": {
      "text/html": [
       "<div>\n",
       "<style scoped>\n",
       "    .dataframe tbody tr th:only-of-type {\n",
       "        vertical-align: middle;\n",
       "    }\n",
       "\n",
       "    .dataframe tbody tr th {\n",
       "        vertical-align: top;\n",
       "    }\n",
       "\n",
       "    .dataframe thead th {\n",
       "        text-align: right;\n",
       "    }\n",
       "</style>\n",
       "<table border=\"1\" class=\"dataframe\">\n",
       "  <thead>\n",
       "    <tr style=\"text-align: right;\">\n",
       "      <th></th>\n",
       "      <th>SERVICE_JOB_ID</th>\n",
       "      <th>files</th>\n",
       "    </tr>\n",
       "  </thead>\n",
       "  <tbody>\n",
       "    <tr>\n",
       "      <th>0</th>\n",
       "      <td>SJ48132474</td>\n",
       "      <td>[data/Laundry/SJ48132474/image-pre-inspection-...</td>\n",
       "    </tr>\n",
       "    <tr>\n",
       "      <th>1</th>\n",
       "      <td>SJ48144276</td>\n",
       "      <td>[data/Laundry/SJ48144276/image-pre-inspection-...</td>\n",
       "    </tr>\n",
       "    <tr>\n",
       "      <th>2</th>\n",
       "      <td>SJ48148704</td>\n",
       "      <td>[data/Laundry/SJ48148704/image-pre-inspection-...</td>\n",
       "    </tr>\n",
       "    <tr>\n",
       "      <th>3</th>\n",
       "      <td>SJ48155130</td>\n",
       "      <td>[data/Laundry/SJ48155130/image-pre-inspection-...</td>\n",
       "    </tr>\n",
       "    <tr>\n",
       "      <th>4</th>\n",
       "      <td>SJ48165170</td>\n",
       "      <td>[data/Laundry/SJ48165170/image-pre-inspection-...</td>\n",
       "    </tr>\n",
       "  </tbody>\n",
       "</table>\n",
       "</div>"
      ],
      "text/plain": [
       "  SERVICE_JOB_ID                                              files\n",
       "0     SJ48132474  [data/Laundry/SJ48132474/image-pre-inspection-...\n",
       "1     SJ48144276  [data/Laundry/SJ48144276/image-pre-inspection-...\n",
       "2     SJ48148704  [data/Laundry/SJ48148704/image-pre-inspection-...\n",
       "3     SJ48155130  [data/Laundry/SJ48155130/image-pre-inspection-...\n",
       "4     SJ48165170  [data/Laundry/SJ48165170/image-pre-inspection-..."
      ]
     },
     "execution_count": 11,
     "metadata": {},
     "output_type": "execute_result"
    }
   ],
   "source": [
    "df_files = df0.groupby(['SERVICE_JOB_ID',])['example'].agg(files=list).reset_index()\n",
    "df_files.head()"
   ]
  },
  {
   "cell_type": "code",
   "execution_count": 12,
   "id": "5c92ad32",
   "metadata": {},
   "outputs": [
    {
     "data": {
      "text/html": [
       "<div>\n",
       "<style scoped>\n",
       "    .dataframe tbody tr th:only-of-type {\n",
       "        vertical-align: middle;\n",
       "    }\n",
       "\n",
       "    .dataframe tbody tr th {\n",
       "        vertical-align: top;\n",
       "    }\n",
       "\n",
       "    .dataframe thead th {\n",
       "        text-align: right;\n",
       "    }\n",
       "</style>\n",
       "<table border=\"1\" class=\"dataframe\">\n",
       "  <thead>\n",
       "    <tr style=\"text-align: right;\">\n",
       "      <th></th>\n",
       "      <th>SERVICE_JOB_ID</th>\n",
       "      <th>MODEL_NUMBER</th>\n",
       "    </tr>\n",
       "  </thead>\n",
       "  <tbody>\n",
       "    <tr>\n",
       "      <th>0</th>\n",
       "      <td>SJ48132474</td>\n",
       "      <td>DVG54R7600C/A3</td>\n",
       "    </tr>\n",
       "    <tr>\n",
       "      <th>1</th>\n",
       "      <td>SJ48144276</td>\n",
       "      <td>GTD42GASJ2WW</td>\n",
       "    </tr>\n",
       "    <tr>\n",
       "      <th>2</th>\n",
       "      <td>SJ48148704</td>\n",
       "      <td>GTX22GASK0WW</td>\n",
       "    </tr>\n",
       "    <tr>\n",
       "      <th>3</th>\n",
       "      <td>SJ48155130</td>\n",
       "      <td>GTD33GASK0WW</td>\n",
       "    </tr>\n",
       "    <tr>\n",
       "      <th>4</th>\n",
       "      <td>SJ48165170</td>\n",
       "      <td>00000000</td>\n",
       "    </tr>\n",
       "  </tbody>\n",
       "</table>\n",
       "</div>"
      ],
      "text/plain": [
       "  SERVICE_JOB_ID    MODEL_NUMBER\n",
       "0     SJ48132474  DVG54R7600C/A3\n",
       "1     SJ48144276    GTD42GASJ2WW\n",
       "2     SJ48148704    GTX22GASK0WW\n",
       "3     SJ48155130    GTD33GASK0WW\n",
       "4     SJ48165170        00000000"
      ]
     },
     "execution_count": 12,
     "metadata": {},
     "output_type": "execute_result"
    }
   ],
   "source": [
    "df_mn = df0.groupby(['SERVICE_JOB_ID', 'MODEL_NUMBER']).size().reset_index(name='count')\n",
    "df_mn.drop(['count'], axis=1, inplace=True)\n",
    "df_mn.head()"
   ]
  },
  {
   "cell_type": "code",
   "execution_count": 13,
   "id": "5ef1fb00",
   "metadata": {},
   "outputs": [
    {
     "data": {
      "text/html": [
       "<div>\n",
       "<style scoped>\n",
       "    .dataframe tbody tr th:only-of-type {\n",
       "        vertical-align: middle;\n",
       "    }\n",
       "\n",
       "    .dataframe tbody tr th {\n",
       "        vertical-align: top;\n",
       "    }\n",
       "\n",
       "    .dataframe thead th {\n",
       "        text-align: right;\n",
       "    }\n",
       "</style>\n",
       "<table border=\"1\" class=\"dataframe\">\n",
       "  <thead>\n",
       "    <tr style=\"text-align: right;\">\n",
       "      <th></th>\n",
       "      <th>SERVICE_JOB_ID</th>\n",
       "      <th>files</th>\n",
       "      <th>MODEL_NUMBER</th>\n",
       "    </tr>\n",
       "  </thead>\n",
       "  <tbody>\n",
       "    <tr>\n",
       "      <th>0</th>\n",
       "      <td>SJ48132474</td>\n",
       "      <td>[data/Laundry/SJ48132474/image-pre-inspection-...</td>\n",
       "      <td>DVG54R7600C/A3</td>\n",
       "    </tr>\n",
       "    <tr>\n",
       "      <th>1</th>\n",
       "      <td>SJ48144276</td>\n",
       "      <td>[data/Laundry/SJ48144276/image-pre-inspection-...</td>\n",
       "      <td>GTD42GASJ2WW</td>\n",
       "    </tr>\n",
       "    <tr>\n",
       "      <th>2</th>\n",
       "      <td>SJ48148704</td>\n",
       "      <td>[data/Laundry/SJ48148704/image-pre-inspection-...</td>\n",
       "      <td>GTX22GASK0WW</td>\n",
       "    </tr>\n",
       "    <tr>\n",
       "      <th>3</th>\n",
       "      <td>SJ48155130</td>\n",
       "      <td>[data/Laundry/SJ48155130/image-pre-inspection-...</td>\n",
       "      <td>GTD33GASK0WW</td>\n",
       "    </tr>\n",
       "    <tr>\n",
       "      <th>4</th>\n",
       "      <td>SJ48165170</td>\n",
       "      <td>[data/Laundry/SJ48165170/image-pre-inspection-...</td>\n",
       "      <td>00000000</td>\n",
       "    </tr>\n",
       "  </tbody>\n",
       "</table>\n",
       "</div>"
      ],
      "text/plain": [
       "  SERVICE_JOB_ID                                              files  \\\n",
       "0     SJ48132474  [data/Laundry/SJ48132474/image-pre-inspection-...   \n",
       "1     SJ48144276  [data/Laundry/SJ48144276/image-pre-inspection-...   \n",
       "2     SJ48148704  [data/Laundry/SJ48148704/image-pre-inspection-...   \n",
       "3     SJ48155130  [data/Laundry/SJ48155130/image-pre-inspection-...   \n",
       "4     SJ48165170  [data/Laundry/SJ48165170/image-pre-inspection-...   \n",
       "\n",
       "     MODEL_NUMBER  \n",
       "0  DVG54R7600C/A3  \n",
       "1    GTD42GASJ2WW  \n",
       "2    GTX22GASK0WW  \n",
       "3    GTD33GASK0WW  \n",
       "4        00000000  "
      ]
     },
     "execution_count": 13,
     "metadata": {},
     "output_type": "execute_result"
    }
   ],
   "source": [
    "df1 = df_files.join(df_mn.set_index('SERVICE_JOB_ID'), on=\"SERVICE_JOB_ID\")\n",
    "df1.head()"
   ]
  },
  {
   "cell_type": "code",
   "execution_count": 14,
   "id": "bf1af393",
   "metadata": {},
   "outputs": [
    {
     "data": {
      "text/html": [
       "<div>\n",
       "<style scoped>\n",
       "    .dataframe tbody tr th:only-of-type {\n",
       "        vertical-align: middle;\n",
       "    }\n",
       "\n",
       "    .dataframe tbody tr th {\n",
       "        vertical-align: top;\n",
       "    }\n",
       "\n",
       "    .dataframe thead th {\n",
       "        text-align: right;\n",
       "    }\n",
       "</style>\n",
       "<table border=\"1\" class=\"dataframe\">\n",
       "  <thead>\n",
       "    <tr style=\"text-align: right;\">\n",
       "      <th></th>\n",
       "      <th>SERVICE_JOB_ID</th>\n",
       "      <th>files</th>\n",
       "      <th>MODEL_NUMBER</th>\n",
       "    </tr>\n",
       "  </thead>\n",
       "  <tbody>\n",
       "    <tr>\n",
       "      <th>count</th>\n",
       "      <td>1172</td>\n",
       "      <td>1172</td>\n",
       "      <td>1172</td>\n",
       "    </tr>\n",
       "    <tr>\n",
       "      <th>unique</th>\n",
       "      <td>1172</td>\n",
       "      <td>1172</td>\n",
       "      <td>358</td>\n",
       "    </tr>\n",
       "    <tr>\n",
       "      <th>top</th>\n",
       "      <td>SJ48132474</td>\n",
       "      <td>[data/Laundry/SJ48132474/image-pre-inspection-...</td>\n",
       "      <td>DW80R2031US/AA</td>\n",
       "    </tr>\n",
       "    <tr>\n",
       "      <th>freq</th>\n",
       "      <td>1</td>\n",
       "      <td>1</td>\n",
       "      <td>71</td>\n",
       "    </tr>\n",
       "  </tbody>\n",
       "</table>\n",
       "</div>"
      ],
      "text/plain": [
       "       SERVICE_JOB_ID                                              files  \\\n",
       "count            1172                                               1172   \n",
       "unique           1172                                               1172   \n",
       "top        SJ48132474  [data/Laundry/SJ48132474/image-pre-inspection-...   \n",
       "freq                1                                                  1   \n",
       "\n",
       "          MODEL_NUMBER  \n",
       "count             1172  \n",
       "unique             358  \n",
       "top     DW80R2031US/AA  \n",
       "freq                71  "
      ]
     },
     "execution_count": 14,
     "metadata": {},
     "output_type": "execute_result"
    }
   ],
   "source": [
    "df1.describe()"
   ]
  },
  {
   "cell_type": "code",
   "execution_count": 18,
   "id": "c28c6213",
   "metadata": {},
   "outputs": [],
   "source": [
    "X = df1.iloc[100:, :-1]\n",
    "y = df1.loc[100:, 'MODEL_NUMBER']"
   ]
  },
  {
   "cell_type": "markdown",
   "id": "5499e9d1",
   "metadata": {},
   "source": [
    "Divide into train test set"
   ]
  },
  {
   "cell_type": "code",
   "execution_count": 19,
   "id": "2783ec62",
   "metadata": {},
   "outputs": [],
   "source": [
    "X_train, X_test, y_train, y_test = train_test_split(X, y, random_state=0, train_size = .75)"
   ]
  },
  {
   "cell_type": "markdown",
   "id": "2ae403df",
   "metadata": {},
   "source": [
    "Create a `MN` column and initialize it with `None` value. This column will store the predicted model number."
   ]
  },
  {
   "cell_type": "code",
   "execution_count": 20,
   "id": "35087679",
   "metadata": {},
   "outputs": [],
   "source": [
    "def predict_mn(df, rotate_pic = False):\n",
    "    df.reset_index(drop=True, inplace=True)\n",
    "    pred = [None, ]*len(df)\n",
    "    for i, row in df.iterrows():\n",
    "        mod_nums = []\n",
    "        files = row['files']\n",
    "        for fn in files:\n",
    "            mn = easyocr_mn_extractor(fn, logger, rotate_pic)\n",
    "            if mn is not None:\n",
    "                mod_nums.append(mn)\n",
    "        if (i % 100 == 0):\n",
    "            print(f\"Processed {i}th datapoint...\")\n",
    "        if len(mod_nums) > 0:\n",
    "            pred[i] = (max(mod_nums, key=len))\n",
    "    return pred"
   ]
  },
  {
   "cell_type": "code",
   "execution_count": 21,
   "id": "53a6b880",
   "metadata": {},
   "outputs": [],
   "source": [
    "def get_accuracy(given, predicted, ld=5):\n",
    "    accurate = 0\n",
    "    for i in range(len(given) - 1):\n",
    "        if predicted[i] is not None:\n",
    "            if levenshtein_distance(predicted[i], given[i]) <= ld:\n",
    "                accurate += 1\n",
    "    return round(accurate*100/len(given), 2)"
   ]
  },
  {
   "cell_type": "code",
   "execution_count": 22,
   "id": "6e5541d3",
   "metadata": {},
   "outputs": [],
   "source": [
    "# use train test to predict and then get accuracy\n",
    "# train_pred = predict(X_train)\n",
    "# get_accuracy(y_train.to_list(), train_pred)"
   ]
  },
  {
   "cell_type": "code",
   "execution_count": 23,
   "id": "c984cef3",
   "metadata": {},
   "outputs": [],
   "source": [
    "# test_pred = predict(X_test)\n",
    "# get_accuracy(y_test.to_list(), test_pred)"
   ]
  },
  {
   "cell_type": "code",
   "execution_count": 24,
   "id": "2f8e62d9",
   "metadata": {},
   "outputs": [
    {
     "data": {
      "text/html": [
       "<div>\n",
       "<style scoped>\n",
       "    .dataframe tbody tr th:only-of-type {\n",
       "        vertical-align: middle;\n",
       "    }\n",
       "\n",
       "    .dataframe tbody tr th {\n",
       "        vertical-align: top;\n",
       "    }\n",
       "\n",
       "    .dataframe thead th {\n",
       "        text-align: right;\n",
       "    }\n",
       "</style>\n",
       "<table border=\"1\" class=\"dataframe\">\n",
       "  <thead>\n",
       "    <tr style=\"text-align: right;\">\n",
       "      <th></th>\n",
       "      <th>SERVICE_JOB_ID</th>\n",
       "      <th>files</th>\n",
       "      <th>MODEL_NUMBER</th>\n",
       "      <th>MN</th>\n",
       "    </tr>\n",
       "  </thead>\n",
       "  <tbody>\n",
       "    <tr>\n",
       "      <th>0</th>\n",
       "      <td>SJ48132474</td>\n",
       "      <td>[data/Laundry/SJ48132474/image-pre-inspection-...</td>\n",
       "      <td>DVG54R7600C/A3</td>\n",
       "      <td>None</td>\n",
       "    </tr>\n",
       "    <tr>\n",
       "      <th>1</th>\n",
       "      <td>SJ48144276</td>\n",
       "      <td>[data/Laundry/SJ48144276/image-pre-inspection-...</td>\n",
       "      <td>GTD42GASJ2WW</td>\n",
       "      <td>None</td>\n",
       "    </tr>\n",
       "    <tr>\n",
       "      <th>2</th>\n",
       "      <td>SJ48148704</td>\n",
       "      <td>[data/Laundry/SJ48148704/image-pre-inspection-...</td>\n",
       "      <td>GTX22GASK0WW</td>\n",
       "      <td>None</td>\n",
       "    </tr>\n",
       "    <tr>\n",
       "      <th>3</th>\n",
       "      <td>SJ48155130</td>\n",
       "      <td>[data/Laundry/SJ48155130/image-pre-inspection-...</td>\n",
       "      <td>GTD33GASK0WW</td>\n",
       "      <td>None</td>\n",
       "    </tr>\n",
       "    <tr>\n",
       "      <th>4</th>\n",
       "      <td>SJ48165170</td>\n",
       "      <td>[data/Laundry/SJ48165170/image-pre-inspection-...</td>\n",
       "      <td>00000000</td>\n",
       "      <td>None</td>\n",
       "    </tr>\n",
       "  </tbody>\n",
       "</table>\n",
       "</div>"
      ],
      "text/plain": [
       "  SERVICE_JOB_ID                                              files  \\\n",
       "0     SJ48132474  [data/Laundry/SJ48132474/image-pre-inspection-...   \n",
       "1     SJ48144276  [data/Laundry/SJ48144276/image-pre-inspection-...   \n",
       "2     SJ48148704  [data/Laundry/SJ48148704/image-pre-inspection-...   \n",
       "3     SJ48155130  [data/Laundry/SJ48155130/image-pre-inspection-...   \n",
       "4     SJ48165170  [data/Laundry/SJ48165170/image-pre-inspection-...   \n",
       "\n",
       "     MODEL_NUMBER    MN  \n",
       "0  DVG54R7600C/A3  None  \n",
       "1    GTD42GASJ2WW  None  \n",
       "2    GTX22GASK0WW  None  \n",
       "3    GTD33GASK0WW  None  \n",
       "4        00000000  None  "
      ]
     },
     "execution_count": 24,
     "metadata": {},
     "output_type": "execute_result"
    }
   ],
   "source": [
    "pd.options.mode.chained_assignment = None\n",
    "df1['MN'] = None\n",
    "df1.head()"
   ]
  },
  {
   "cell_type": "code",
   "execution_count": 25,
   "id": "94554224",
   "metadata": {},
   "outputs": [
    {
     "name": "stdout",
     "output_type": "stream",
     "text": [
      "Printing model number for 0 datapoint...\n",
      "Printing model number for 100 datapoint...\n",
      "Printing model number for 200 datapoint...\n",
      "Printing model number for 300 datapoint...\n",
      "Printing model number for 400 datapoint...\n",
      "Printing model number for 500 datapoint...\n",
      "Printing model number for 600 datapoint...\n",
      "Printing model number for 700 datapoint...\n",
      "Printing model number for 800 datapoint...\n",
      "Printing model number for 900 datapoint...\n",
      "Printing model number for 1000 datapoint...\n",
      "Printing model number for 1100 datapoint...\n",
      "time taken: 17524.430861473083 s\n"
     ]
    }
   ],
   "source": [
    "# %%timeit\n",
    "start_time = time.time()\n",
    "\n",
    "# using model to extract model number for all service_job_id\n",
    "for i, row in df1.iterrows():\n",
    "    mod_nums = []\n",
    "    files = row['files']\n",
    "    for fn in files:\n",
    "        mn = easyocr_mn_extractor(fn, logger)\n",
    "        if mn is not None:\n",
    "            mod_nums.append(mn)\n",
    "    if (i % 100 == 0):\n",
    "        print(f\"Printing model number for {i} datapoint...\")\n",
    "    if len(mod_nums) > 0:\n",
    "#         print(max(mod_nums, key=len))\n",
    "        df1.loc[i, 'MN'] = max(mod_nums, key=len)\n",
    "print(f\"time taken: {time.time() - start_time} s\")"
   ]
  },
  {
   "cell_type": "code",
   "execution_count": 26,
   "id": "45246872",
   "metadata": {},
   "outputs": [
    {
     "data": {
      "text/html": [
       "<div>\n",
       "<style scoped>\n",
       "    .dataframe tbody tr th:only-of-type {\n",
       "        vertical-align: middle;\n",
       "    }\n",
       "\n",
       "    .dataframe tbody tr th {\n",
       "        vertical-align: top;\n",
       "    }\n",
       "\n",
       "    .dataframe thead th {\n",
       "        text-align: right;\n",
       "    }\n",
       "</style>\n",
       "<table border=\"1\" class=\"dataframe\">\n",
       "  <thead>\n",
       "    <tr style=\"text-align: right;\">\n",
       "      <th></th>\n",
       "      <th>SERVICE_JOB_ID</th>\n",
       "      <th>files</th>\n",
       "      <th>MODEL_NUMBER</th>\n",
       "      <th>MN</th>\n",
       "    </tr>\n",
       "  </thead>\n",
       "  <tbody>\n",
       "    <tr>\n",
       "      <th>0</th>\n",
       "      <td>SJ48132474</td>\n",
       "      <td>[data/Laundry/SJ48132474/image-pre-inspection-...</td>\n",
       "      <td>DVG54R7600C/A3</td>\n",
       "      <td>None</td>\n",
       "    </tr>\n",
       "    <tr>\n",
       "      <th>1</th>\n",
       "      <td>SJ48144276</td>\n",
       "      <td>[data/Laundry/SJ48144276/image-pre-inspection-...</td>\n",
       "      <td>GTD42GASJ2WW</td>\n",
       "      <td>None</td>\n",
       "    </tr>\n",
       "    <tr>\n",
       "      <th>2</th>\n",
       "      <td>SJ48148704</td>\n",
       "      <td>[data/Laundry/SJ48148704/image-pre-inspection-...</td>\n",
       "      <td>GTX22GASK0WW</td>\n",
       "      <td>GTX22GASKGLW</td>\n",
       "    </tr>\n",
       "    <tr>\n",
       "      <th>3</th>\n",
       "      <td>SJ48155130</td>\n",
       "      <td>[data/Laundry/SJ48155130/image-pre-inspection-...</td>\n",
       "      <td>GTD33GASK0WW</td>\n",
       "      <td>GTD33GASKOLH</td>\n",
       "    </tr>\n",
       "    <tr>\n",
       "      <th>4</th>\n",
       "      <td>SJ48165170</td>\n",
       "      <td>[data/Laundry/SJ48165170/image-pre-inspection-...</td>\n",
       "      <td>00000000</td>\n",
       "      <td>None</td>\n",
       "    </tr>\n",
       "  </tbody>\n",
       "</table>\n",
       "</div>"
      ],
      "text/plain": [
       "  SERVICE_JOB_ID                                              files  \\\n",
       "0     SJ48132474  [data/Laundry/SJ48132474/image-pre-inspection-...   \n",
       "1     SJ48144276  [data/Laundry/SJ48144276/image-pre-inspection-...   \n",
       "2     SJ48148704  [data/Laundry/SJ48148704/image-pre-inspection-...   \n",
       "3     SJ48155130  [data/Laundry/SJ48155130/image-pre-inspection-...   \n",
       "4     SJ48165170  [data/Laundry/SJ48165170/image-pre-inspection-...   \n",
       "\n",
       "     MODEL_NUMBER            MN  \n",
       "0  DVG54R7600C/A3          None  \n",
       "1    GTD42GASJ2WW          None  \n",
       "2    GTX22GASK0WW  GTX22GASKGLW  \n",
       "3    GTD33GASK0WW  GTD33GASKOLH  \n",
       "4        00000000          None  "
      ]
     },
     "execution_count": 26,
     "metadata": {},
     "output_type": "execute_result"
    }
   ],
   "source": [
    "df1.head()"
   ]
  },
  {
   "cell_type": "code",
   "execution_count": 27,
   "id": "d7078f38",
   "metadata": {},
   "outputs": [],
   "source": [
    "given = df1['MODEL_NUMBER'].to_list()\n",
    "pred = df1['MN'].to_list()"
   ]
  },
  {
   "cell_type": "code",
   "execution_count": 28,
   "id": "1141f6b5",
   "metadata": {},
   "outputs": [],
   "source": [
    "accurate = 0\n",
    "for i in range(len(given) - 1):\n",
    "#     print(\"pred = \", pred[i], \" given = \", given[i])\n",
    "    if pred[i] is not None:\n",
    "        if levenshtein_distance(pred[i], given[i]) <= 5:\n",
    "#             print(f\"Given = {given[i]}, \\t\\tPred = {pred[i]}\")\n",
    "            accurate += 1"
   ]
  },
  {
   "cell_type": "code",
   "execution_count": 29,
   "id": "a3f3e813",
   "metadata": {},
   "outputs": [
    {
     "data": {
      "text/plain": [
       "109"
      ]
     },
     "execution_count": 29,
     "metadata": {},
     "output_type": "execute_result"
    }
   ],
   "source": [
    "# number of accurate model numbers\n",
    "accurate"
   ]
  },
  {
   "cell_type": "code",
   "execution_count": 30,
   "id": "385e6b19",
   "metadata": {},
   "outputs": [
    {
     "data": {
      "text/plain": [
       "9.3"
      ]
     },
     "execution_count": 30,
     "metadata": {},
     "output_type": "execute_result"
    }
   ],
   "source": [
    "# accuracy as percentage\n",
    "accuracy = round(accurate*100/len(given), 2)\n",
    "accuracy"
   ]
  },
  {
   "cell_type": "code",
   "execution_count": null,
   "id": "6743b1ba",
   "metadata": {},
   "outputs": [],
   "source": []
  }
 ],
 "metadata": {
  "kernelspec": {
   "display_name": "Python 3 (ipykernel)",
   "language": "python",
   "name": "python3"
  },
  "language_info": {
   "codemirror_mode": {
    "name": "ipython",
    "version": 3
   },
   "file_extension": ".py",
   "mimetype": "text/x-python",
   "name": "python",
   "nbconvert_exporter": "python",
   "pygments_lexer": "ipython3",
   "version": "3.10.4"
  }
 },
 "nbformat": 4,
 "nbformat_minor": 5
}
