{
 "cells": [
  {
   "cell_type": "code",
   "execution_count": 1,
   "id": "3042bdb0",
   "metadata": {},
   "outputs": [],
   "source": [
    "# import libraries\n",
    "import os\n",
    "import numpy as np\n",
    "import pandas as pd\n",
    "from pytesseract import pytesseract\n",
    "from sklearn.model_selection import train_test_split\n",
    "from sys import platform\n",
    "import cv2\n",
    "from Levenshtein import distance as levenshtein_distance\n",
    "from model_num_extractor.pytesseract_extractor import pytesseract_mn_extractor\n",
    "from logger import get_logger\n",
    "import time"
   ]
  },
  {
   "cell_type": "code",
   "execution_count": 2,
   "id": "ba03f3d1",
   "metadata": {},
   "outputs": [],
   "source": [
    "# setting up pyte\n",
    "if platform == \"win32\":\n",
    "    pytesseract.tesseract_cmd = \"C:/Users/rrai34/Downloads/tesseract-ocr-w64-setup-v5.1.0.20220510.exe\""
   ]
  },
  {
   "cell_type": "code",
   "execution_count": 3,
   "id": "d448336c",
   "metadata": {},
   "outputs": [],
   "source": [
    "# Required to run easyocr in windows - not sure why.\n",
    "os.environ['KMP_DUPLICATE_LIB_OK']='True'"
   ]
  },
  {
   "cell_type": "code",
   "execution_count": 4,
   "id": "f688c912",
   "metadata": {},
   "outputs": [],
   "source": [
    "# reader = easyocr.Reader(['en'])"
   ]
  },
  {
   "cell_type": "code",
   "execution_count": 5,
   "id": "5d876272",
   "metadata": {},
   "outputs": [],
   "source": [
    "logger = get_logger(\"pytesseract-extractor-app\")"
   ]
  },
  {
   "cell_type": "code",
   "execution_count": 6,
   "id": "6eb0e1df",
   "metadata": {},
   "outputs": [],
   "source": [
    "df = pd.read_csv('./new_data/product_model_serial_numbers.csv')"
   ]
  },
  {
   "cell_type": "code",
   "execution_count": 7,
   "id": "9c7d0215",
   "metadata": {},
   "outputs": [
    {
     "data": {
      "text/html": [
       "<div>\n",
       "<style scoped>\n",
       "    .dataframe tbody tr th:only-of-type {\n",
       "        vertical-align: middle;\n",
       "    }\n",
       "\n",
       "    .dataframe tbody tr th {\n",
       "        vertical-align: top;\n",
       "    }\n",
       "\n",
       "    .dataframe thead th {\n",
       "        text-align: right;\n",
       "    }\n",
       "</style>\n",
       "<table border=\"1\" class=\"dataframe\">\n",
       "  <thead>\n",
       "    <tr style=\"text-align: right;\">\n",
       "      <th></th>\n",
       "      <th>SERVICE_JOB_ID</th>\n",
       "      <th>FILE_NAME</th>\n",
       "      <th>example</th>\n",
       "      <th>PRODUCT_LINE</th>\n",
       "      <th>MODEL_NUMBER</th>\n",
       "      <th>SERIAL_NUMBER</th>\n",
       "    </tr>\n",
       "  </thead>\n",
       "  <tbody>\n",
       "    <tr>\n",
       "      <th>0</th>\n",
       "      <td>SJ48132474</td>\n",
       "      <td>image-pre-inspection-proof-of-purchase-72fddee...</td>\n",
       "      <td>data/Laundry/SJ48132474/image-pre-inspection-p...</td>\n",
       "      <td>HOME LAUNDRY GAS</td>\n",
       "      <td>DVG54R7600C/A3</td>\n",
       "      <td>0B1T5BCNC00144M</td>\n",
       "    </tr>\n",
       "    <tr>\n",
       "      <th>1</th>\n",
       "      <td>SJ48132474</td>\n",
       "      <td>image-pre-inspection-proof-of-purchase-bcd8901...</td>\n",
       "      <td>data/Laundry/SJ48132474/image-pre-inspection-p...</td>\n",
       "      <td>HOME LAUNDRY GAS</td>\n",
       "      <td>DVG54R7600C/A3</td>\n",
       "      <td>0B1T5BCNC00144M</td>\n",
       "    </tr>\n",
       "    <tr>\n",
       "      <th>2</th>\n",
       "      <td>SJ48132474</td>\n",
       "      <td>image-pre-inspection-serial-number-a2dc2e0b-7a...</td>\n",
       "      <td>data/Laundry/SJ48132474/image-pre-inspection-s...</td>\n",
       "      <td>HOME LAUNDRY GAS</td>\n",
       "      <td>DVG54R7600C/A3</td>\n",
       "      <td>0B1T5BCNC00144M</td>\n",
       "    </tr>\n",
       "    <tr>\n",
       "      <th>3</th>\n",
       "      <td>SJ48132474</td>\n",
       "      <td>image-pre-inspection-serial-number-d843dfb6-fb...</td>\n",
       "      <td>data/Laundry/SJ48132474/image-pre-inspection-s...</td>\n",
       "      <td>HOME LAUNDRY GAS</td>\n",
       "      <td>DVG54R7600C/A3</td>\n",
       "      <td>0B1T5BCNC00144M</td>\n",
       "    </tr>\n",
       "    <tr>\n",
       "      <th>4</th>\n",
       "      <td>SJ48144276</td>\n",
       "      <td>image-pre-inspection-proof-of-purchase-8e82720...</td>\n",
       "      <td>data/Laundry/SJ48144276/image-pre-inspection-p...</td>\n",
       "      <td>HOME LAUNDRY GAS</td>\n",
       "      <td>GTD42GASJ2WW</td>\n",
       "      <td>GTD42GASJ2WW</td>\n",
       "    </tr>\n",
       "  </tbody>\n",
       "</table>\n",
       "</div>"
      ],
      "text/plain": [
       "  SERVICE_JOB_ID                                          FILE_NAME  \\\n",
       "0     SJ48132474  image-pre-inspection-proof-of-purchase-72fddee...   \n",
       "1     SJ48132474  image-pre-inspection-proof-of-purchase-bcd8901...   \n",
       "2     SJ48132474  image-pre-inspection-serial-number-a2dc2e0b-7a...   \n",
       "3     SJ48132474  image-pre-inspection-serial-number-d843dfb6-fb...   \n",
       "4     SJ48144276  image-pre-inspection-proof-of-purchase-8e82720...   \n",
       "\n",
       "                                             example      PRODUCT_LINE  \\\n",
       "0  data/Laundry/SJ48132474/image-pre-inspection-p...  HOME LAUNDRY GAS   \n",
       "1  data/Laundry/SJ48132474/image-pre-inspection-p...  HOME LAUNDRY GAS   \n",
       "2  data/Laundry/SJ48132474/image-pre-inspection-s...  HOME LAUNDRY GAS   \n",
       "3  data/Laundry/SJ48132474/image-pre-inspection-s...  HOME LAUNDRY GAS   \n",
       "4  data/Laundry/SJ48144276/image-pre-inspection-p...  HOME LAUNDRY GAS   \n",
       "\n",
       "     MODEL_NUMBER    SERIAL_NUMBER  \n",
       "0  DVG54R7600C/A3  0B1T5BCNC00144M  \n",
       "1  DVG54R7600C/A3  0B1T5BCNC00144M  \n",
       "2  DVG54R7600C/A3  0B1T5BCNC00144M  \n",
       "3  DVG54R7600C/A3  0B1T5BCNC00144M  \n",
       "4    GTD42GASJ2WW     GTD42GASJ2WW  "
      ]
     },
     "execution_count": 7,
     "metadata": {},
     "output_type": "execute_result"
    }
   ],
   "source": [
    "df.head()"
   ]
  },
  {
   "cell_type": "code",
   "execution_count": 8,
   "id": "5273ecad",
   "metadata": {},
   "outputs": [
    {
     "data": {
      "text/html": [
       "<div>\n",
       "<style scoped>\n",
       "    .dataframe tbody tr th:only-of-type {\n",
       "        vertical-align: middle;\n",
       "    }\n",
       "\n",
       "    .dataframe tbody tr th {\n",
       "        vertical-align: top;\n",
       "    }\n",
       "\n",
       "    .dataframe thead th {\n",
       "        text-align: right;\n",
       "    }\n",
       "</style>\n",
       "<table border=\"1\" class=\"dataframe\">\n",
       "  <thead>\n",
       "    <tr style=\"text-align: right;\">\n",
       "      <th></th>\n",
       "      <th>SERVICE_JOB_ID</th>\n",
       "      <th>FILE_NAME</th>\n",
       "      <th>example</th>\n",
       "      <th>PRODUCT_LINE</th>\n",
       "      <th>MODEL_NUMBER</th>\n",
       "      <th>SERIAL_NUMBER</th>\n",
       "    </tr>\n",
       "  </thead>\n",
       "  <tbody>\n",
       "    <tr>\n",
       "      <th>count</th>\n",
       "      <td>3347</td>\n",
       "      <td>3347</td>\n",
       "      <td>3347</td>\n",
       "      <td>2429</td>\n",
       "      <td>2425</td>\n",
       "      <td>2424</td>\n",
       "    </tr>\n",
       "    <tr>\n",
       "      <th>unique</th>\n",
       "      <td>1573</td>\n",
       "      <td>3309</td>\n",
       "      <td>3309</td>\n",
       "      <td>4</td>\n",
       "      <td>358</td>\n",
       "      <td>1141</td>\n",
       "    </tr>\n",
       "    <tr>\n",
       "      <th>top</th>\n",
       "      <td>SJ48595774</td>\n",
       "      <td>image-pre-inspection-serial-number-105d636a-08...</td>\n",
       "      <td>data/Laundry/SJ48547655/image-pre-inspection-s...</td>\n",
       "      <td>DISHWASHER</td>\n",
       "      <td>DW80R2031US/AA</td>\n",
       "      <td>0ERBGDAK201631J</td>\n",
       "    </tr>\n",
       "    <tr>\n",
       "      <th>freq</th>\n",
       "      <td>11</td>\n",
       "      <td>4</td>\n",
       "      <td>4</td>\n",
       "      <td>1031</td>\n",
       "      <td>169</td>\n",
       "      <td>11</td>\n",
       "    </tr>\n",
       "  </tbody>\n",
       "</table>\n",
       "</div>"
      ],
      "text/plain": [
       "       SERVICE_JOB_ID                                          FILE_NAME  \\\n",
       "count            3347                                               3347   \n",
       "unique           1573                                               3309   \n",
       "top        SJ48595774  image-pre-inspection-serial-number-105d636a-08...   \n",
       "freq               11                                                  4   \n",
       "\n",
       "                                                  example PRODUCT_LINE  \\\n",
       "count                                                3347         2429   \n",
       "unique                                               3309            4   \n",
       "top     data/Laundry/SJ48547655/image-pre-inspection-s...   DISHWASHER   \n",
       "freq                                                    4         1031   \n",
       "\n",
       "          MODEL_NUMBER    SERIAL_NUMBER  \n",
       "count             2425             2424  \n",
       "unique             358             1141  \n",
       "top     DW80R2031US/AA  0ERBGDAK201631J  \n",
       "freq               169               11  "
      ]
     },
     "execution_count": 8,
     "metadata": {},
     "output_type": "execute_result"
    }
   ],
   "source": [
    "df.describe()"
   ]
  },
  {
   "cell_type": "markdown",
   "id": "0ecaf338",
   "metadata": {},
   "source": [
    "Get rid of data points which doesn't have model number."
   ]
  },
  {
   "cell_type": "code",
   "execution_count": 9,
   "id": "764711d2",
   "metadata": {},
   "outputs": [
    {
     "data": {
      "text/html": [
       "<div>\n",
       "<style scoped>\n",
       "    .dataframe tbody tr th:only-of-type {\n",
       "        vertical-align: middle;\n",
       "    }\n",
       "\n",
       "    .dataframe tbody tr th {\n",
       "        vertical-align: top;\n",
       "    }\n",
       "\n",
       "    .dataframe thead th {\n",
       "        text-align: right;\n",
       "    }\n",
       "</style>\n",
       "<table border=\"1\" class=\"dataframe\">\n",
       "  <thead>\n",
       "    <tr style=\"text-align: right;\">\n",
       "      <th></th>\n",
       "      <th>SERVICE_JOB_ID</th>\n",
       "      <th>FILE_NAME</th>\n",
       "      <th>example</th>\n",
       "      <th>PRODUCT_LINE</th>\n",
       "      <th>MODEL_NUMBER</th>\n",
       "      <th>SERIAL_NUMBER</th>\n",
       "    </tr>\n",
       "  </thead>\n",
       "  <tbody>\n",
       "    <tr>\n",
       "      <th>count</th>\n",
       "      <td>2425</td>\n",
       "      <td>2425</td>\n",
       "      <td>2425</td>\n",
       "      <td>2425</td>\n",
       "      <td>2425</td>\n",
       "      <td>2424</td>\n",
       "    </tr>\n",
       "    <tr>\n",
       "      <th>unique</th>\n",
       "      <td>1172</td>\n",
       "      <td>2387</td>\n",
       "      <td>2387</td>\n",
       "      <td>4</td>\n",
       "      <td>358</td>\n",
       "      <td>1141</td>\n",
       "    </tr>\n",
       "    <tr>\n",
       "      <th>top</th>\n",
       "      <td>SJ48595774</td>\n",
       "      <td>image-pre-inspection-serial-number-105d636a-08...</td>\n",
       "      <td>data/Laundry/SJ48547655/image-pre-inspection-s...</td>\n",
       "      <td>DISHWASHER</td>\n",
       "      <td>DW80R2031US/AA</td>\n",
       "      <td>0ERBGDAK201631J</td>\n",
       "    </tr>\n",
       "    <tr>\n",
       "      <th>freq</th>\n",
       "      <td>11</td>\n",
       "      <td>4</td>\n",
       "      <td>4</td>\n",
       "      <td>1031</td>\n",
       "      <td>169</td>\n",
       "      <td>11</td>\n",
       "    </tr>\n",
       "  </tbody>\n",
       "</table>\n",
       "</div>"
      ],
      "text/plain": [
       "       SERVICE_JOB_ID                                          FILE_NAME  \\\n",
       "count            2425                                               2425   \n",
       "unique           1172                                               2387   \n",
       "top        SJ48595774  image-pre-inspection-serial-number-105d636a-08...   \n",
       "freq               11                                                  4   \n",
       "\n",
       "                                                  example PRODUCT_LINE  \\\n",
       "count                                                2425         2425   \n",
       "unique                                               2387            4   \n",
       "top     data/Laundry/SJ48547655/image-pre-inspection-s...   DISHWASHER   \n",
       "freq                                                    4         1031   \n",
       "\n",
       "          MODEL_NUMBER    SERIAL_NUMBER  \n",
       "count             2425             2424  \n",
       "unique             358             1141  \n",
       "top     DW80R2031US/AA  0ERBGDAK201631J  \n",
       "freq               169               11  "
      ]
     },
     "execution_count": 9,
     "metadata": {},
     "output_type": "execute_result"
    }
   ],
   "source": [
    "df0 = df.dropna(subset=['MODEL_NUMBER', ])\n",
    "df0.describe()"
   ]
  },
  {
   "cell_type": "markdown",
   "id": "c6e8990d",
   "metadata": {},
   "source": [
    "Checking how many unique service id's the dataframe has."
   ]
  },
  {
   "cell_type": "code",
   "execution_count": 10,
   "id": "7c44daf6",
   "metadata": {},
   "outputs": [
    {
     "data": {
      "text/plain": [
       "1172"
      ]
     },
     "execution_count": 10,
     "metadata": {},
     "output_type": "execute_result"
    }
   ],
   "source": [
    "len(df0.SERVICE_JOB_ID.unique())"
   ]
  },
  {
   "cell_type": "markdown",
   "id": "e3155591",
   "metadata": {},
   "source": [
    "Group the services by job id and create a new column `files` that holds all the images path as a list. Each service id is treated as a data point."
   ]
  },
  {
   "cell_type": "code",
   "execution_count": 11,
   "id": "e8d5903e",
   "metadata": {},
   "outputs": [
    {
     "data": {
      "text/html": [
       "<div>\n",
       "<style scoped>\n",
       "    .dataframe tbody tr th:only-of-type {\n",
       "        vertical-align: middle;\n",
       "    }\n",
       "\n",
       "    .dataframe tbody tr th {\n",
       "        vertical-align: top;\n",
       "    }\n",
       "\n",
       "    .dataframe thead th {\n",
       "        text-align: right;\n",
       "    }\n",
       "</style>\n",
       "<table border=\"1\" class=\"dataframe\">\n",
       "  <thead>\n",
       "    <tr style=\"text-align: right;\">\n",
       "      <th></th>\n",
       "      <th>SERVICE_JOB_ID</th>\n",
       "      <th>files</th>\n",
       "    </tr>\n",
       "  </thead>\n",
       "  <tbody>\n",
       "    <tr>\n",
       "      <th>0</th>\n",
       "      <td>SJ48132474</td>\n",
       "      <td>[data/Laundry/SJ48132474/image-pre-inspection-...</td>\n",
       "    </tr>\n",
       "    <tr>\n",
       "      <th>1</th>\n",
       "      <td>SJ48144276</td>\n",
       "      <td>[data/Laundry/SJ48144276/image-pre-inspection-...</td>\n",
       "    </tr>\n",
       "    <tr>\n",
       "      <th>2</th>\n",
       "      <td>SJ48148704</td>\n",
       "      <td>[data/Laundry/SJ48148704/image-pre-inspection-...</td>\n",
       "    </tr>\n",
       "    <tr>\n",
       "      <th>3</th>\n",
       "      <td>SJ48155130</td>\n",
       "      <td>[data/Laundry/SJ48155130/image-pre-inspection-...</td>\n",
       "    </tr>\n",
       "    <tr>\n",
       "      <th>4</th>\n",
       "      <td>SJ48165170</td>\n",
       "      <td>[data/Laundry/SJ48165170/image-pre-inspection-...</td>\n",
       "    </tr>\n",
       "  </tbody>\n",
       "</table>\n",
       "</div>"
      ],
      "text/plain": [
       "  SERVICE_JOB_ID                                              files\n",
       "0     SJ48132474  [data/Laundry/SJ48132474/image-pre-inspection-...\n",
       "1     SJ48144276  [data/Laundry/SJ48144276/image-pre-inspection-...\n",
       "2     SJ48148704  [data/Laundry/SJ48148704/image-pre-inspection-...\n",
       "3     SJ48155130  [data/Laundry/SJ48155130/image-pre-inspection-...\n",
       "4     SJ48165170  [data/Laundry/SJ48165170/image-pre-inspection-..."
      ]
     },
     "execution_count": 11,
     "metadata": {},
     "output_type": "execute_result"
    }
   ],
   "source": [
    "df_files = df0.groupby(['SERVICE_JOB_ID',])['example'].agg(files=list).reset_index()\n",
    "df_files.head()"
   ]
  },
  {
   "cell_type": "code",
   "execution_count": 12,
   "id": "5c92ad32",
   "metadata": {},
   "outputs": [
    {
     "data": {
      "text/html": [
       "<div>\n",
       "<style scoped>\n",
       "    .dataframe tbody tr th:only-of-type {\n",
       "        vertical-align: middle;\n",
       "    }\n",
       "\n",
       "    .dataframe tbody tr th {\n",
       "        vertical-align: top;\n",
       "    }\n",
       "\n",
       "    .dataframe thead th {\n",
       "        text-align: right;\n",
       "    }\n",
       "</style>\n",
       "<table border=\"1\" class=\"dataframe\">\n",
       "  <thead>\n",
       "    <tr style=\"text-align: right;\">\n",
       "      <th></th>\n",
       "      <th>SERVICE_JOB_ID</th>\n",
       "      <th>MODEL_NUMBER</th>\n",
       "    </tr>\n",
       "  </thead>\n",
       "  <tbody>\n",
       "    <tr>\n",
       "      <th>0</th>\n",
       "      <td>SJ48132474</td>\n",
       "      <td>DVG54R7600C/A3</td>\n",
       "    </tr>\n",
       "    <tr>\n",
       "      <th>1</th>\n",
       "      <td>SJ48144276</td>\n",
       "      <td>GTD42GASJ2WW</td>\n",
       "    </tr>\n",
       "    <tr>\n",
       "      <th>2</th>\n",
       "      <td>SJ48148704</td>\n",
       "      <td>GTX22GASK0WW</td>\n",
       "    </tr>\n",
       "    <tr>\n",
       "      <th>3</th>\n",
       "      <td>SJ48155130</td>\n",
       "      <td>GTD33GASK0WW</td>\n",
       "    </tr>\n",
       "    <tr>\n",
       "      <th>4</th>\n",
       "      <td>SJ48165170</td>\n",
       "      <td>00000000</td>\n",
       "    </tr>\n",
       "  </tbody>\n",
       "</table>\n",
       "</div>"
      ],
      "text/plain": [
       "  SERVICE_JOB_ID    MODEL_NUMBER\n",
       "0     SJ48132474  DVG54R7600C/A3\n",
       "1     SJ48144276    GTD42GASJ2WW\n",
       "2     SJ48148704    GTX22GASK0WW\n",
       "3     SJ48155130    GTD33GASK0WW\n",
       "4     SJ48165170        00000000"
      ]
     },
     "execution_count": 12,
     "metadata": {},
     "output_type": "execute_result"
    }
   ],
   "source": [
    "df_mn = df0.groupby(['SERVICE_JOB_ID', 'MODEL_NUMBER']).size().reset_index(name='count')\n",
    "df_mn.drop(['count'], axis=1, inplace=True)\n",
    "df_mn.head()"
   ]
  },
  {
   "cell_type": "code",
   "execution_count": 13,
   "id": "5ef1fb00",
   "metadata": {},
   "outputs": [
    {
     "data": {
      "text/html": [
       "<div>\n",
       "<style scoped>\n",
       "    .dataframe tbody tr th:only-of-type {\n",
       "        vertical-align: middle;\n",
       "    }\n",
       "\n",
       "    .dataframe tbody tr th {\n",
       "        vertical-align: top;\n",
       "    }\n",
       "\n",
       "    .dataframe thead th {\n",
       "        text-align: right;\n",
       "    }\n",
       "</style>\n",
       "<table border=\"1\" class=\"dataframe\">\n",
       "  <thead>\n",
       "    <tr style=\"text-align: right;\">\n",
       "      <th></th>\n",
       "      <th>SERVICE_JOB_ID</th>\n",
       "      <th>files</th>\n",
       "      <th>MODEL_NUMBER</th>\n",
       "    </tr>\n",
       "  </thead>\n",
       "  <tbody>\n",
       "    <tr>\n",
       "      <th>0</th>\n",
       "      <td>SJ48132474</td>\n",
       "      <td>[data/Laundry/SJ48132474/image-pre-inspection-...</td>\n",
       "      <td>DVG54R7600C/A3</td>\n",
       "    </tr>\n",
       "    <tr>\n",
       "      <th>1</th>\n",
       "      <td>SJ48144276</td>\n",
       "      <td>[data/Laundry/SJ48144276/image-pre-inspection-...</td>\n",
       "      <td>GTD42GASJ2WW</td>\n",
       "    </tr>\n",
       "    <tr>\n",
       "      <th>2</th>\n",
       "      <td>SJ48148704</td>\n",
       "      <td>[data/Laundry/SJ48148704/image-pre-inspection-...</td>\n",
       "      <td>GTX22GASK0WW</td>\n",
       "    </tr>\n",
       "    <tr>\n",
       "      <th>3</th>\n",
       "      <td>SJ48155130</td>\n",
       "      <td>[data/Laundry/SJ48155130/image-pre-inspection-...</td>\n",
       "      <td>GTD33GASK0WW</td>\n",
       "    </tr>\n",
       "    <tr>\n",
       "      <th>4</th>\n",
       "      <td>SJ48165170</td>\n",
       "      <td>[data/Laundry/SJ48165170/image-pre-inspection-...</td>\n",
       "      <td>00000000</td>\n",
       "    </tr>\n",
       "  </tbody>\n",
       "</table>\n",
       "</div>"
      ],
      "text/plain": [
       "  SERVICE_JOB_ID                                              files  \\\n",
       "0     SJ48132474  [data/Laundry/SJ48132474/image-pre-inspection-...   \n",
       "1     SJ48144276  [data/Laundry/SJ48144276/image-pre-inspection-...   \n",
       "2     SJ48148704  [data/Laundry/SJ48148704/image-pre-inspection-...   \n",
       "3     SJ48155130  [data/Laundry/SJ48155130/image-pre-inspection-...   \n",
       "4     SJ48165170  [data/Laundry/SJ48165170/image-pre-inspection-...   \n",
       "\n",
       "     MODEL_NUMBER  \n",
       "0  DVG54R7600C/A3  \n",
       "1    GTD42GASJ2WW  \n",
       "2    GTX22GASK0WW  \n",
       "3    GTD33GASK0WW  \n",
       "4        00000000  "
      ]
     },
     "execution_count": 13,
     "metadata": {},
     "output_type": "execute_result"
    }
   ],
   "source": [
    "df1 = df_files.join(df_mn.set_index('SERVICE_JOB_ID'), on=\"SERVICE_JOB_ID\")\n",
    "df1.head()"
   ]
  },
  {
   "cell_type": "code",
   "execution_count": 14,
   "id": "bf1af393",
   "metadata": {},
   "outputs": [
    {
     "data": {
      "text/html": [
       "<div>\n",
       "<style scoped>\n",
       "    .dataframe tbody tr th:only-of-type {\n",
       "        vertical-align: middle;\n",
       "    }\n",
       "\n",
       "    .dataframe tbody tr th {\n",
       "        vertical-align: top;\n",
       "    }\n",
       "\n",
       "    .dataframe thead th {\n",
       "        text-align: right;\n",
       "    }\n",
       "</style>\n",
       "<table border=\"1\" class=\"dataframe\">\n",
       "  <thead>\n",
       "    <tr style=\"text-align: right;\">\n",
       "      <th></th>\n",
       "      <th>SERVICE_JOB_ID</th>\n",
       "      <th>files</th>\n",
       "      <th>MODEL_NUMBER</th>\n",
       "    </tr>\n",
       "  </thead>\n",
       "  <tbody>\n",
       "    <tr>\n",
       "      <th>count</th>\n",
       "      <td>1172</td>\n",
       "      <td>1172</td>\n",
       "      <td>1172</td>\n",
       "    </tr>\n",
       "    <tr>\n",
       "      <th>unique</th>\n",
       "      <td>1172</td>\n",
       "      <td>1172</td>\n",
       "      <td>358</td>\n",
       "    </tr>\n",
       "    <tr>\n",
       "      <th>top</th>\n",
       "      <td>SJ48132474</td>\n",
       "      <td>[data/Laundry/SJ48132474/image-pre-inspection-...</td>\n",
       "      <td>DW80R2031US/AA</td>\n",
       "    </tr>\n",
       "    <tr>\n",
       "      <th>freq</th>\n",
       "      <td>1</td>\n",
       "      <td>1</td>\n",
       "      <td>71</td>\n",
       "    </tr>\n",
       "  </tbody>\n",
       "</table>\n",
       "</div>"
      ],
      "text/plain": [
       "       SERVICE_JOB_ID                                              files  \\\n",
       "count            1172                                               1172   \n",
       "unique           1172                                               1172   \n",
       "top        SJ48132474  [data/Laundry/SJ48132474/image-pre-inspection-...   \n",
       "freq                1                                                  1   \n",
       "\n",
       "          MODEL_NUMBER  \n",
       "count             1172  \n",
       "unique             358  \n",
       "top     DW80R2031US/AA  \n",
       "freq                71  "
      ]
     },
     "execution_count": 14,
     "metadata": {},
     "output_type": "execute_result"
    }
   ],
   "source": [
    "df1.describe()"
   ]
  },
  {
   "cell_type": "code",
   "execution_count": 15,
   "id": "eeab3270",
   "metadata": {},
   "outputs": [],
   "source": [
    "def predict_mn(df, rotate_pic = False):\n",
    "    df.reset_index(drop=True, inplace=True)\n",
    "    pred = [None, ]*len(df)\n",
    "    for i, row in df.iterrows():\n",
    "        mod_nums = []\n",
    "        files = row['files']\n",
    "        for fn in files:\n",
    "            mn = pytesseract_mn_extractor(fn, logger, rotate_pic)\n",
    "            if mn is not None:\n",
    "                mod_nums.append(mn)\n",
    "        if (i % 100 == 0):\n",
    "            print(f\"Processed {i}th datapoint...\")\n",
    "        if len(mod_nums) > 0:\n",
    "            pred[i] = (max(mod_nums, key=len))\n",
    "    return pred"
   ]
  },
  {
   "cell_type": "code",
   "execution_count": 16,
   "id": "e0c929db",
   "metadata": {},
   "outputs": [],
   "source": [
    "def get_accuracy(given, predicted, ld=5):\n",
    "    accurate = 0\n",
    "    for i in range(len(given) - 1):\n",
    "        if predicted[i] is not None:\n",
    "            if levenshtein_distance(predicted[i], given[i]) <= ld:\n",
    "                accurate += 1\n",
    "    return round(accurate*100/len(given), 2)"
   ]
  },
  {
   "cell_type": "code",
   "execution_count": 17,
   "id": "30565178",
   "metadata": {},
   "outputs": [],
   "source": [
    "# only taking 10 data points for starter\n",
    "# df2 = df1.iloc[:10, :]"
   ]
  },
  {
   "cell_type": "code",
   "execution_count": 27,
   "id": "c28c6213",
   "metadata": {},
   "outputs": [],
   "source": [
    "X = df1.iloc[:, :-1]\n",
    "y = df1.loc[:, 'MODEL_NUMBER']"
   ]
  },
  {
   "cell_type": "markdown",
   "id": "5499e9d1",
   "metadata": {},
   "source": [
    "Divide into train test set"
   ]
  },
  {
   "cell_type": "code",
   "execution_count": 28,
   "id": "2783ec62",
   "metadata": {},
   "outputs": [],
   "source": [
    "X_train, X_test, y_train, y_test = train_test_split(X, y, random_state=0, train_size = .75)"
   ]
  },
  {
   "cell_type": "markdown",
   "id": "2ae403df",
   "metadata": {},
   "source": [
    "Create a `MN` column and initialize it with `None` value. This column will store the predicted model number."
   ]
  },
  {
   "cell_type": "code",
   "execution_count": 20,
   "id": "35087679",
   "metadata": {},
   "outputs": [
    {
     "name": "stdout",
     "output_type": "stream",
     "text": [
      "Processed 0th datapoint...\n",
      "Processed 100th datapoint...\n",
      "Processed 200th datapoint...\n",
      "Processed 300th datapoint...\n",
      "Processed 400th datapoint...\n",
      "Processed 500th datapoint...\n",
      "Processed 600th datapoint...\n",
      "Processed 700th datapoint...\n",
      "Processed 800th datapoint...\n"
     ]
    },
    {
     "ename": "TypeError",
     "evalue": "distance expected two Strings or two Unicodes",
     "output_type": "error",
     "traceback": [
      "\u001b[0;31m---------------------------------------------------------------------------\u001b[0m",
      "\u001b[0;31mTypeError\u001b[0m                                 Traceback (most recent call last)",
      "Input \u001b[0;32mIn [20]\u001b[0m, in \u001b[0;36m<cell line: 4>\u001b[0;34m()\u001b[0m\n\u001b[1;32m      2\u001b[0m start_time \u001b[38;5;241m=\u001b[39m time\u001b[38;5;241m.\u001b[39mtime()\n\u001b[1;32m      3\u001b[0m train_pred \u001b[38;5;241m=\u001b[39m predict_mn(X_train, \u001b[38;5;28;01mTrue\u001b[39;00m)\n\u001b[0;32m----> 4\u001b[0m \u001b[43mget_accuracy\u001b[49m\u001b[43m(\u001b[49m\u001b[43my_train\u001b[49m\u001b[38;5;241;43m.\u001b[39;49m\u001b[43mto_list\u001b[49m\u001b[43m(\u001b[49m\u001b[43m)\u001b[49m\u001b[43m,\u001b[49m\u001b[43m \u001b[49m\u001b[43mtrain_pred\u001b[49m\u001b[43m)\u001b[49m\n\u001b[1;32m      5\u001b[0m \u001b[38;5;28mprint\u001b[39m(\u001b[38;5;124mf\u001b[39m\u001b[38;5;124m\"\u001b[39m\u001b[38;5;124mtime taken: \u001b[39m\u001b[38;5;132;01m{\u001b[39;00mtime\u001b[38;5;241m.\u001b[39mtime() \u001b[38;5;241m-\u001b[39m start_time\u001b[38;5;132;01m}\u001b[39;00m\u001b[38;5;124m s\u001b[39m\u001b[38;5;124m\"\u001b[39m)\n",
      "Input \u001b[0;32mIn [16]\u001b[0m, in \u001b[0;36mget_accuracy\u001b[0;34m(given, predicted, ld)\u001b[0m\n\u001b[1;32m      3\u001b[0m \u001b[38;5;28;01mfor\u001b[39;00m i \u001b[38;5;129;01min\u001b[39;00m \u001b[38;5;28mrange\u001b[39m(\u001b[38;5;28mlen\u001b[39m(given) \u001b[38;5;241m-\u001b[39m \u001b[38;5;241m1\u001b[39m):\n\u001b[1;32m      4\u001b[0m     \u001b[38;5;28;01mif\u001b[39;00m predicted[i] \u001b[38;5;129;01mis\u001b[39;00m \u001b[38;5;129;01mnot\u001b[39;00m \u001b[38;5;28;01mNone\u001b[39;00m:\n\u001b[0;32m----> 5\u001b[0m         \u001b[38;5;28;01mif\u001b[39;00m \u001b[43mlevenshtein_distance\u001b[49m\u001b[43m(\u001b[49m\u001b[43mpredicted\u001b[49m\u001b[43m[\u001b[49m\u001b[43mi\u001b[49m\u001b[43m]\u001b[49m\u001b[43m,\u001b[49m\u001b[43m \u001b[49m\u001b[43mgiven\u001b[49m\u001b[43m[\u001b[49m\u001b[43mi\u001b[49m\u001b[43m]\u001b[49m\u001b[43m)\u001b[49m \u001b[38;5;241m<\u001b[39m\u001b[38;5;241m=\u001b[39m ld:\n\u001b[1;32m      6\u001b[0m             accurate \u001b[38;5;241m+\u001b[39m\u001b[38;5;241m=\u001b[39m \u001b[38;5;241m1\u001b[39m\n\u001b[1;32m      7\u001b[0m \u001b[38;5;28;01mreturn\u001b[39;00m \u001b[38;5;28mround\u001b[39m(accurate\u001b[38;5;241m*\u001b[39m\u001b[38;5;241m100\u001b[39m\u001b[38;5;241m/\u001b[39m\u001b[38;5;28mlen\u001b[39m(given), \u001b[38;5;241m2\u001b[39m)\n",
      "\u001b[0;31mTypeError\u001b[0m: distance expected two Strings or two Unicodes"
     ]
    }
   ],
   "source": [
    "# use train test to predict and then get accuracy\n",
    "start_time = time.time()\n",
    "train_pred = predict_mn(X_train, True)\n",
    "print(f\"time taken: {time.time() - start_time} s\")"
   ]
  },
  {
   "cell_type": "code",
   "execution_count": 29,
   "id": "bc2eb27a",
   "metadata": {},
   "outputs": [
    {
     "data": {
      "text/plain": [
       "23.09"
      ]
     },
     "execution_count": 29,
     "metadata": {},
     "output_type": "execute_result"
    }
   ],
   "source": [
    "get_accuracy(y_train.to_list(), train_pred)"
   ]
  },
  {
   "cell_type": "code",
   "execution_count": 30,
   "id": "0b2b9b91",
   "metadata": {},
   "outputs": [
    {
     "name": "stdout",
     "output_type": "stream",
     "text": [
      "Processed 0th datapoint...\n",
      "Processed 100th datapoint...\n",
      "Processed 200th datapoint...\n",
      "time taken: 1203.4373400211334 s\n"
     ]
    }
   ],
   "source": [
    "start_time = time.time()\n",
    "test_pred = predict_mn(X_test, True)\n",
    "print(f\"time taken: {time.time() - start_time} s\")"
   ]
  },
  {
   "cell_type": "code",
   "execution_count": 34,
   "id": "33db4d77",
   "metadata": {},
   "outputs": [
    {
     "data": {
      "text/plain": [
       "24.23"
      ]
     },
     "execution_count": 34,
     "metadata": {},
     "output_type": "execute_result"
    }
   ],
   "source": [
    "get_accuracy(y_test.to_list(), test_pred)"
   ]
  },
  {
   "cell_type": "code",
   "execution_count": null,
   "id": "2f8e62d9",
   "metadata": {},
   "outputs": [],
   "source": [
    "# pd.options.mode.chained_assignment = None\n",
    "# df1['MN'] = None\n",
    "# df1.head()"
   ]
  },
  {
   "cell_type": "code",
   "execution_count": null,
   "id": "94554224",
   "metadata": {},
   "outputs": [],
   "source": [
    "# start_time = time.time()\n",
    "# # using model to extract model number for all service_job_id\n",
    "# for i, row in df1.iterrows():\n",
    "#     mod_nums = []\n",
    "#     files = row['files']\n",
    "#     for fn in files:\n",
    "#         mn = pytesseract_mn_extractor(fn, logger, True)\n",
    "#         if mn is not None:\n",
    "#             mod_nums.append(mn)\n",
    "#     if (i % 100 == 0):\n",
    "#         print(f\"Printing model number for {i} datapoint...\")\n",
    "#     if len(mod_nums) > 0:\n",
    "#         df1.loc[i, 'MN'] = max(mod_nums, key=len)\n",
    "# print(f\"time taken: {time.time() - start_time} s\")"
   ]
  },
  {
   "cell_type": "code",
   "execution_count": null,
   "id": "45246872",
   "metadata": {},
   "outputs": [],
   "source": [
    "# df1.head()"
   ]
  },
  {
   "cell_type": "code",
   "execution_count": null,
   "id": "d7078f38",
   "metadata": {},
   "outputs": [],
   "source": [
    "# given = df1['MODEL_NUMBER'].to_list()\n",
    "# pred = df1['MN'].to_list()"
   ]
  },
  {
   "cell_type": "code",
   "execution_count": null,
   "id": "1141f6b5",
   "metadata": {},
   "outputs": [],
   "source": [
    "# accurate = 0\n",
    "# for i in range(len(given) - 1):\n",
    "# #     print(\"pred = \", pred[i], \" given = \", given[i])\n",
    "#     if pred[i] is not None:\n",
    "#         if levenshtein_distance(pred[i], given[i]) <= 5:\n",
    "# #             print(f\"Given = {given[i]}, \\t\\tPred = {pred[i]}\")\n",
    "#             accurate += 1"
   ]
  },
  {
   "cell_type": "code",
   "execution_count": null,
   "id": "a3f3e813",
   "metadata": {},
   "outputs": [],
   "source": [
    "# accurate"
   ]
  },
  {
   "cell_type": "code",
   "execution_count": null,
   "id": "385e6b19",
   "metadata": {},
   "outputs": [],
   "source": [
    "# accuracy = round(accurate*100/len(given), 2)\n",
    "# accuracy"
   ]
  }
 ],
 "metadata": {
  "kernelspec": {
   "display_name": "Python 3 (ipykernel)",
   "language": "python",
   "name": "python3"
  },
  "language_info": {
   "codemirror_mode": {
    "name": "ipython",
    "version": 3
   },
   "file_extension": ".py",
   "mimetype": "text/x-python",
   "name": "python",
   "nbconvert_exporter": "python",
   "pygments_lexer": "ipython3",
   "version": "3.10.4"
  }
 },
 "nbformat": 4,
 "nbformat_minor": 5
}
